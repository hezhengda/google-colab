{
  "nbformat": 4,
  "nbformat_minor": 0,
  "metadata": {
    "colab": {
      "name": "Pytorch for deep learning.ipynb",
      "provenance": [],
      "authorship_tag": "ABX9TyNhUPVX51pbRpsVENXbFQYe",
      "include_colab_link": true
    },
    "kernelspec": {
      "name": "python3",
      "display_name": "Python 3"
    },
    "widgets": {
      "application/vnd.jupyter.widget-state+json": {
        "cb89f9a31ae44499b0df88a3b3c68e2a": {
          "model_module": "@jupyter-widgets/controls",
          "model_name": "HBoxModel",
          "state": {
            "_view_name": "HBoxView",
            "_dom_classes": [],
            "_model_name": "HBoxModel",
            "_view_module": "@jupyter-widgets/controls",
            "_model_module_version": "1.5.0",
            "_view_count": null,
            "_view_module_version": "1.5.0",
            "box_style": "",
            "layout": "IPY_MODEL_48b29aa7f46d4880905b1322f8f3464e",
            "_model_module": "@jupyter-widgets/controls",
            "children": [
              "IPY_MODEL_719c41ff93da45ce891d1afc4d3afb0c",
              "IPY_MODEL_ff3b4eb8898846e18cabc292dd88ed36"
            ]
          }
        },
        "48b29aa7f46d4880905b1322f8f3464e": {
          "model_module": "@jupyter-widgets/base",
          "model_name": "LayoutModel",
          "state": {
            "_view_name": "LayoutView",
            "grid_template_rows": null,
            "right": null,
            "justify_content": null,
            "_view_module": "@jupyter-widgets/base",
            "overflow": null,
            "_model_module_version": "1.2.0",
            "_view_count": null,
            "flex_flow": null,
            "width": null,
            "min_width": null,
            "border": null,
            "align_items": null,
            "bottom": null,
            "_model_module": "@jupyter-widgets/base",
            "top": null,
            "grid_column": null,
            "overflow_y": null,
            "overflow_x": null,
            "grid_auto_flow": null,
            "grid_area": null,
            "grid_template_columns": null,
            "flex": null,
            "_model_name": "LayoutModel",
            "justify_items": null,
            "grid_row": null,
            "max_height": null,
            "align_content": null,
            "visibility": null,
            "align_self": null,
            "height": null,
            "min_height": null,
            "padding": null,
            "grid_auto_rows": null,
            "grid_gap": null,
            "max_width": null,
            "order": null,
            "_view_module_version": "1.2.0",
            "grid_template_areas": null,
            "object_position": null,
            "object_fit": null,
            "grid_auto_columns": null,
            "margin": null,
            "display": null,
            "left": null
          }
        },
        "719c41ff93da45ce891d1afc4d3afb0c": {
          "model_module": "@jupyter-widgets/controls",
          "model_name": "FloatProgressModel",
          "state": {
            "_view_name": "ProgressView",
            "style": "IPY_MODEL_382531ed5c2e41e9b7482255c0521eca",
            "_dom_classes": [],
            "description": "",
            "_model_name": "FloatProgressModel",
            "bar_style": "info",
            "max": 1,
            "_view_module": "@jupyter-widgets/controls",
            "_model_module_version": "1.5.0",
            "value": 1,
            "_view_count": null,
            "_view_module_version": "1.5.0",
            "orientation": "horizontal",
            "min": 0,
            "description_tooltip": null,
            "_model_module": "@jupyter-widgets/controls",
            "layout": "IPY_MODEL_d502205babce4eedaea93125211a7c80"
          }
        },
        "ff3b4eb8898846e18cabc292dd88ed36": {
          "model_module": "@jupyter-widgets/controls",
          "model_name": "HTMLModel",
          "state": {
            "_view_name": "HTMLView",
            "style": "IPY_MODEL_254b6227ba1744fbad02a5477604e7d0",
            "_dom_classes": [],
            "description": "",
            "_model_name": "HTMLModel",
            "placeholder": "​",
            "_view_module": "@jupyter-widgets/controls",
            "_model_module_version": "1.5.0",
            "value": " 9920512/? [00:20&lt;00:00, 8741792.60it/s]",
            "_view_count": null,
            "_view_module_version": "1.5.0",
            "description_tooltip": null,
            "_model_module": "@jupyter-widgets/controls",
            "layout": "IPY_MODEL_b4148409fc884321ba79860404e2f413"
          }
        },
        "382531ed5c2e41e9b7482255c0521eca": {
          "model_module": "@jupyter-widgets/controls",
          "model_name": "ProgressStyleModel",
          "state": {
            "_view_name": "StyleView",
            "_model_name": "ProgressStyleModel",
            "description_width": "initial",
            "_view_module": "@jupyter-widgets/base",
            "_model_module_version": "1.5.0",
            "_view_count": null,
            "_view_module_version": "1.2.0",
            "bar_color": null,
            "_model_module": "@jupyter-widgets/controls"
          }
        },
        "d502205babce4eedaea93125211a7c80": {
          "model_module": "@jupyter-widgets/base",
          "model_name": "LayoutModel",
          "state": {
            "_view_name": "LayoutView",
            "grid_template_rows": null,
            "right": null,
            "justify_content": null,
            "_view_module": "@jupyter-widgets/base",
            "overflow": null,
            "_model_module_version": "1.2.0",
            "_view_count": null,
            "flex_flow": null,
            "width": null,
            "min_width": null,
            "border": null,
            "align_items": null,
            "bottom": null,
            "_model_module": "@jupyter-widgets/base",
            "top": null,
            "grid_column": null,
            "overflow_y": null,
            "overflow_x": null,
            "grid_auto_flow": null,
            "grid_area": null,
            "grid_template_columns": null,
            "flex": null,
            "_model_name": "LayoutModel",
            "justify_items": null,
            "grid_row": null,
            "max_height": null,
            "align_content": null,
            "visibility": null,
            "align_self": null,
            "height": null,
            "min_height": null,
            "padding": null,
            "grid_auto_rows": null,
            "grid_gap": null,
            "max_width": null,
            "order": null,
            "_view_module_version": "1.2.0",
            "grid_template_areas": null,
            "object_position": null,
            "object_fit": null,
            "grid_auto_columns": null,
            "margin": null,
            "display": null,
            "left": null
          }
        },
        "254b6227ba1744fbad02a5477604e7d0": {
          "model_module": "@jupyter-widgets/controls",
          "model_name": "DescriptionStyleModel",
          "state": {
            "_view_name": "StyleView",
            "_model_name": "DescriptionStyleModel",
            "description_width": "",
            "_view_module": "@jupyter-widgets/base",
            "_model_module_version": "1.5.0",
            "_view_count": null,
            "_view_module_version": "1.2.0",
            "_model_module": "@jupyter-widgets/controls"
          }
        },
        "b4148409fc884321ba79860404e2f413": {
          "model_module": "@jupyter-widgets/base",
          "model_name": "LayoutModel",
          "state": {
            "_view_name": "LayoutView",
            "grid_template_rows": null,
            "right": null,
            "justify_content": null,
            "_view_module": "@jupyter-widgets/base",
            "overflow": null,
            "_model_module_version": "1.2.0",
            "_view_count": null,
            "flex_flow": null,
            "width": null,
            "min_width": null,
            "border": null,
            "align_items": null,
            "bottom": null,
            "_model_module": "@jupyter-widgets/base",
            "top": null,
            "grid_column": null,
            "overflow_y": null,
            "overflow_x": null,
            "grid_auto_flow": null,
            "grid_area": null,
            "grid_template_columns": null,
            "flex": null,
            "_model_name": "LayoutModel",
            "justify_items": null,
            "grid_row": null,
            "max_height": null,
            "align_content": null,
            "visibility": null,
            "align_self": null,
            "height": null,
            "min_height": null,
            "padding": null,
            "grid_auto_rows": null,
            "grid_gap": null,
            "max_width": null,
            "order": null,
            "_view_module_version": "1.2.0",
            "grid_template_areas": null,
            "object_position": null,
            "object_fit": null,
            "grid_auto_columns": null,
            "margin": null,
            "display": null,
            "left": null
          }
        },
        "4d422f2eeca44b7db1b87824c6e00a6e": {
          "model_module": "@jupyter-widgets/controls",
          "model_name": "HBoxModel",
          "state": {
            "_view_name": "HBoxView",
            "_dom_classes": [],
            "_model_name": "HBoxModel",
            "_view_module": "@jupyter-widgets/controls",
            "_model_module_version": "1.5.0",
            "_view_count": null,
            "_view_module_version": "1.5.0",
            "box_style": "",
            "layout": "IPY_MODEL_00d966aa731647dcbe44645cbfd87127",
            "_model_module": "@jupyter-widgets/controls",
            "children": [
              "IPY_MODEL_59fa9cab30864f1584dd446acb35f426",
              "IPY_MODEL_039ba7cb38f54b62a0ed7e8038956156"
            ]
          }
        },
        "00d966aa731647dcbe44645cbfd87127": {
          "model_module": "@jupyter-widgets/base",
          "model_name": "LayoutModel",
          "state": {
            "_view_name": "LayoutView",
            "grid_template_rows": null,
            "right": null,
            "justify_content": null,
            "_view_module": "@jupyter-widgets/base",
            "overflow": null,
            "_model_module_version": "1.2.0",
            "_view_count": null,
            "flex_flow": null,
            "width": null,
            "min_width": null,
            "border": null,
            "align_items": null,
            "bottom": null,
            "_model_module": "@jupyter-widgets/base",
            "top": null,
            "grid_column": null,
            "overflow_y": null,
            "overflow_x": null,
            "grid_auto_flow": null,
            "grid_area": null,
            "grid_template_columns": null,
            "flex": null,
            "_model_name": "LayoutModel",
            "justify_items": null,
            "grid_row": null,
            "max_height": null,
            "align_content": null,
            "visibility": null,
            "align_self": null,
            "height": null,
            "min_height": null,
            "padding": null,
            "grid_auto_rows": null,
            "grid_gap": null,
            "max_width": null,
            "order": null,
            "_view_module_version": "1.2.0",
            "grid_template_areas": null,
            "object_position": null,
            "object_fit": null,
            "grid_auto_columns": null,
            "margin": null,
            "display": null,
            "left": null
          }
        },
        "59fa9cab30864f1584dd446acb35f426": {
          "model_module": "@jupyter-widgets/controls",
          "model_name": "FloatProgressModel",
          "state": {
            "_view_name": "ProgressView",
            "style": "IPY_MODEL_c5e3a2ffe3db4408bcc7db4c79b321a7",
            "_dom_classes": [],
            "description": "",
            "_model_name": "FloatProgressModel",
            "bar_style": "info",
            "max": 1,
            "_view_module": "@jupyter-widgets/controls",
            "_model_module_version": "1.5.0",
            "value": 1,
            "_view_count": null,
            "_view_module_version": "1.5.0",
            "orientation": "horizontal",
            "min": 0,
            "description_tooltip": null,
            "_model_module": "@jupyter-widgets/controls",
            "layout": "IPY_MODEL_05c9ae7ac79f4423821f951a7170abed"
          }
        },
        "039ba7cb38f54b62a0ed7e8038956156": {
          "model_module": "@jupyter-widgets/controls",
          "model_name": "HTMLModel",
          "state": {
            "_view_name": "HTMLView",
            "style": "IPY_MODEL_18300deb0b194fe49490cac01e76582a",
            "_dom_classes": [],
            "description": "",
            "_model_name": "HTMLModel",
            "placeholder": "​",
            "_view_module": "@jupyter-widgets/controls",
            "_model_module_version": "1.5.0",
            "value": " 32768/? [00:19&lt;00:00, 150764.09it/s]",
            "_view_count": null,
            "_view_module_version": "1.5.0",
            "description_tooltip": null,
            "_model_module": "@jupyter-widgets/controls",
            "layout": "IPY_MODEL_b5838b7d8ab248b1bc42059825fd4618"
          }
        },
        "c5e3a2ffe3db4408bcc7db4c79b321a7": {
          "model_module": "@jupyter-widgets/controls",
          "model_name": "ProgressStyleModel",
          "state": {
            "_view_name": "StyleView",
            "_model_name": "ProgressStyleModel",
            "description_width": "initial",
            "_view_module": "@jupyter-widgets/base",
            "_model_module_version": "1.5.0",
            "_view_count": null,
            "_view_module_version": "1.2.0",
            "bar_color": null,
            "_model_module": "@jupyter-widgets/controls"
          }
        },
        "05c9ae7ac79f4423821f951a7170abed": {
          "model_module": "@jupyter-widgets/base",
          "model_name": "LayoutModel",
          "state": {
            "_view_name": "LayoutView",
            "grid_template_rows": null,
            "right": null,
            "justify_content": null,
            "_view_module": "@jupyter-widgets/base",
            "overflow": null,
            "_model_module_version": "1.2.0",
            "_view_count": null,
            "flex_flow": null,
            "width": null,
            "min_width": null,
            "border": null,
            "align_items": null,
            "bottom": null,
            "_model_module": "@jupyter-widgets/base",
            "top": null,
            "grid_column": null,
            "overflow_y": null,
            "overflow_x": null,
            "grid_auto_flow": null,
            "grid_area": null,
            "grid_template_columns": null,
            "flex": null,
            "_model_name": "LayoutModel",
            "justify_items": null,
            "grid_row": null,
            "max_height": null,
            "align_content": null,
            "visibility": null,
            "align_self": null,
            "height": null,
            "min_height": null,
            "padding": null,
            "grid_auto_rows": null,
            "grid_gap": null,
            "max_width": null,
            "order": null,
            "_view_module_version": "1.2.0",
            "grid_template_areas": null,
            "object_position": null,
            "object_fit": null,
            "grid_auto_columns": null,
            "margin": null,
            "display": null,
            "left": null
          }
        },
        "18300deb0b194fe49490cac01e76582a": {
          "model_module": "@jupyter-widgets/controls",
          "model_name": "DescriptionStyleModel",
          "state": {
            "_view_name": "StyleView",
            "_model_name": "DescriptionStyleModel",
            "description_width": "",
            "_view_module": "@jupyter-widgets/base",
            "_model_module_version": "1.5.0",
            "_view_count": null,
            "_view_module_version": "1.2.0",
            "_model_module": "@jupyter-widgets/controls"
          }
        },
        "b5838b7d8ab248b1bc42059825fd4618": {
          "model_module": "@jupyter-widgets/base",
          "model_name": "LayoutModel",
          "state": {
            "_view_name": "LayoutView",
            "grid_template_rows": null,
            "right": null,
            "justify_content": null,
            "_view_module": "@jupyter-widgets/base",
            "overflow": null,
            "_model_module_version": "1.2.0",
            "_view_count": null,
            "flex_flow": null,
            "width": null,
            "min_width": null,
            "border": null,
            "align_items": null,
            "bottom": null,
            "_model_module": "@jupyter-widgets/base",
            "top": null,
            "grid_column": null,
            "overflow_y": null,
            "overflow_x": null,
            "grid_auto_flow": null,
            "grid_area": null,
            "grid_template_columns": null,
            "flex": null,
            "_model_name": "LayoutModel",
            "justify_items": null,
            "grid_row": null,
            "max_height": null,
            "align_content": null,
            "visibility": null,
            "align_self": null,
            "height": null,
            "min_height": null,
            "padding": null,
            "grid_auto_rows": null,
            "grid_gap": null,
            "max_width": null,
            "order": null,
            "_view_module_version": "1.2.0",
            "grid_template_areas": null,
            "object_position": null,
            "object_fit": null,
            "grid_auto_columns": null,
            "margin": null,
            "display": null,
            "left": null
          }
        },
        "f41acec98fc048c98c3c91ab27550e84": {
          "model_module": "@jupyter-widgets/controls",
          "model_name": "HBoxModel",
          "state": {
            "_view_name": "HBoxView",
            "_dom_classes": [],
            "_model_name": "HBoxModel",
            "_view_module": "@jupyter-widgets/controls",
            "_model_module_version": "1.5.0",
            "_view_count": null,
            "_view_module_version": "1.5.0",
            "box_style": "",
            "layout": "IPY_MODEL_b566e37fbc6843aeb56305886ad75ead",
            "_model_module": "@jupyter-widgets/controls",
            "children": [
              "IPY_MODEL_c7f09f44ee8c481daf9e1a3cc36592a1",
              "IPY_MODEL_9166a77aeb394d6d985ccf4e288957b4"
            ]
          }
        },
        "b566e37fbc6843aeb56305886ad75ead": {
          "model_module": "@jupyter-widgets/base",
          "model_name": "LayoutModel",
          "state": {
            "_view_name": "LayoutView",
            "grid_template_rows": null,
            "right": null,
            "justify_content": null,
            "_view_module": "@jupyter-widgets/base",
            "overflow": null,
            "_model_module_version": "1.2.0",
            "_view_count": null,
            "flex_flow": null,
            "width": null,
            "min_width": null,
            "border": null,
            "align_items": null,
            "bottom": null,
            "_model_module": "@jupyter-widgets/base",
            "top": null,
            "grid_column": null,
            "overflow_y": null,
            "overflow_x": null,
            "grid_auto_flow": null,
            "grid_area": null,
            "grid_template_columns": null,
            "flex": null,
            "_model_name": "LayoutModel",
            "justify_items": null,
            "grid_row": null,
            "max_height": null,
            "align_content": null,
            "visibility": null,
            "align_self": null,
            "height": null,
            "min_height": null,
            "padding": null,
            "grid_auto_rows": null,
            "grid_gap": null,
            "max_width": null,
            "order": null,
            "_view_module_version": "1.2.0",
            "grid_template_areas": null,
            "object_position": null,
            "object_fit": null,
            "grid_auto_columns": null,
            "margin": null,
            "display": null,
            "left": null
          }
        },
        "c7f09f44ee8c481daf9e1a3cc36592a1": {
          "model_module": "@jupyter-widgets/controls",
          "model_name": "FloatProgressModel",
          "state": {
            "_view_name": "ProgressView",
            "style": "IPY_MODEL_c9b3d91d57b44dc3813abe5d766152b5",
            "_dom_classes": [],
            "description": "",
            "_model_name": "FloatProgressModel",
            "bar_style": "info",
            "max": 1,
            "_view_module": "@jupyter-widgets/controls",
            "_model_module_version": "1.5.0",
            "value": 1,
            "_view_count": null,
            "_view_module_version": "1.5.0",
            "orientation": "horizontal",
            "min": 0,
            "description_tooltip": null,
            "_model_module": "@jupyter-widgets/controls",
            "layout": "IPY_MODEL_c538f6f4fe9148c78236985bcd951d07"
          }
        },
        "9166a77aeb394d6d985ccf4e288957b4": {
          "model_module": "@jupyter-widgets/controls",
          "model_name": "HTMLModel",
          "state": {
            "_view_name": "HTMLView",
            "style": "IPY_MODEL_2f81404e566849bc884abf99733e44a0",
            "_dom_classes": [],
            "description": "",
            "_model_name": "HTMLModel",
            "placeholder": "​",
            "_view_module": "@jupyter-widgets/controls",
            "_model_module_version": "1.5.0",
            "value": " 1654784/? [00:19&lt;00:00, 5709760.24it/s]",
            "_view_count": null,
            "_view_module_version": "1.5.0",
            "description_tooltip": null,
            "_model_module": "@jupyter-widgets/controls",
            "layout": "IPY_MODEL_1d53207a1d114dcca9593389d935d1ea"
          }
        },
        "c9b3d91d57b44dc3813abe5d766152b5": {
          "model_module": "@jupyter-widgets/controls",
          "model_name": "ProgressStyleModel",
          "state": {
            "_view_name": "StyleView",
            "_model_name": "ProgressStyleModel",
            "description_width": "initial",
            "_view_module": "@jupyter-widgets/base",
            "_model_module_version": "1.5.0",
            "_view_count": null,
            "_view_module_version": "1.2.0",
            "bar_color": null,
            "_model_module": "@jupyter-widgets/controls"
          }
        },
        "c538f6f4fe9148c78236985bcd951d07": {
          "model_module": "@jupyter-widgets/base",
          "model_name": "LayoutModel",
          "state": {
            "_view_name": "LayoutView",
            "grid_template_rows": null,
            "right": null,
            "justify_content": null,
            "_view_module": "@jupyter-widgets/base",
            "overflow": null,
            "_model_module_version": "1.2.0",
            "_view_count": null,
            "flex_flow": null,
            "width": null,
            "min_width": null,
            "border": null,
            "align_items": null,
            "bottom": null,
            "_model_module": "@jupyter-widgets/base",
            "top": null,
            "grid_column": null,
            "overflow_y": null,
            "overflow_x": null,
            "grid_auto_flow": null,
            "grid_area": null,
            "grid_template_columns": null,
            "flex": null,
            "_model_name": "LayoutModel",
            "justify_items": null,
            "grid_row": null,
            "max_height": null,
            "align_content": null,
            "visibility": null,
            "align_self": null,
            "height": null,
            "min_height": null,
            "padding": null,
            "grid_auto_rows": null,
            "grid_gap": null,
            "max_width": null,
            "order": null,
            "_view_module_version": "1.2.0",
            "grid_template_areas": null,
            "object_position": null,
            "object_fit": null,
            "grid_auto_columns": null,
            "margin": null,
            "display": null,
            "left": null
          }
        },
        "2f81404e566849bc884abf99733e44a0": {
          "model_module": "@jupyter-widgets/controls",
          "model_name": "DescriptionStyleModel",
          "state": {
            "_view_name": "StyleView",
            "_model_name": "DescriptionStyleModel",
            "description_width": "",
            "_view_module": "@jupyter-widgets/base",
            "_model_module_version": "1.5.0",
            "_view_count": null,
            "_view_module_version": "1.2.0",
            "_model_module": "@jupyter-widgets/controls"
          }
        },
        "1d53207a1d114dcca9593389d935d1ea": {
          "model_module": "@jupyter-widgets/base",
          "model_name": "LayoutModel",
          "state": {
            "_view_name": "LayoutView",
            "grid_template_rows": null,
            "right": null,
            "justify_content": null,
            "_view_module": "@jupyter-widgets/base",
            "overflow": null,
            "_model_module_version": "1.2.0",
            "_view_count": null,
            "flex_flow": null,
            "width": null,
            "min_width": null,
            "border": null,
            "align_items": null,
            "bottom": null,
            "_model_module": "@jupyter-widgets/base",
            "top": null,
            "grid_column": null,
            "overflow_y": null,
            "overflow_x": null,
            "grid_auto_flow": null,
            "grid_area": null,
            "grid_template_columns": null,
            "flex": null,
            "_model_name": "LayoutModel",
            "justify_items": null,
            "grid_row": null,
            "max_height": null,
            "align_content": null,
            "visibility": null,
            "align_self": null,
            "height": null,
            "min_height": null,
            "padding": null,
            "grid_auto_rows": null,
            "grid_gap": null,
            "max_width": null,
            "order": null,
            "_view_module_version": "1.2.0",
            "grid_template_areas": null,
            "object_position": null,
            "object_fit": null,
            "grid_auto_columns": null,
            "margin": null,
            "display": null,
            "left": null
          }
        },
        "65b15c4498764ea3aac9c4eba9426664": {
          "model_module": "@jupyter-widgets/controls",
          "model_name": "HBoxModel",
          "state": {
            "_view_name": "HBoxView",
            "_dom_classes": [],
            "_model_name": "HBoxModel",
            "_view_module": "@jupyter-widgets/controls",
            "_model_module_version": "1.5.0",
            "_view_count": null,
            "_view_module_version": "1.5.0",
            "box_style": "",
            "layout": "IPY_MODEL_7a3ad38d6ecf41738e00079b50936184",
            "_model_module": "@jupyter-widgets/controls",
            "children": [
              "IPY_MODEL_d5d5b96036ea4dba8dcdeb1ce2de408d",
              "IPY_MODEL_c803f1da3e864e9287e0538eb902e6fd"
            ]
          }
        },
        "7a3ad38d6ecf41738e00079b50936184": {
          "model_module": "@jupyter-widgets/base",
          "model_name": "LayoutModel",
          "state": {
            "_view_name": "LayoutView",
            "grid_template_rows": null,
            "right": null,
            "justify_content": null,
            "_view_module": "@jupyter-widgets/base",
            "overflow": null,
            "_model_module_version": "1.2.0",
            "_view_count": null,
            "flex_flow": null,
            "width": null,
            "min_width": null,
            "border": null,
            "align_items": null,
            "bottom": null,
            "_model_module": "@jupyter-widgets/base",
            "top": null,
            "grid_column": null,
            "overflow_y": null,
            "overflow_x": null,
            "grid_auto_flow": null,
            "grid_area": null,
            "grid_template_columns": null,
            "flex": null,
            "_model_name": "LayoutModel",
            "justify_items": null,
            "grid_row": null,
            "max_height": null,
            "align_content": null,
            "visibility": null,
            "align_self": null,
            "height": null,
            "min_height": null,
            "padding": null,
            "grid_auto_rows": null,
            "grid_gap": null,
            "max_width": null,
            "order": null,
            "_view_module_version": "1.2.0",
            "grid_template_areas": null,
            "object_position": null,
            "object_fit": null,
            "grid_auto_columns": null,
            "margin": null,
            "display": null,
            "left": null
          }
        },
        "d5d5b96036ea4dba8dcdeb1ce2de408d": {
          "model_module": "@jupyter-widgets/controls",
          "model_name": "FloatProgressModel",
          "state": {
            "_view_name": "ProgressView",
            "style": "IPY_MODEL_20f6cd45eb3b4d7e9a82c5b0b149f957",
            "_dom_classes": [],
            "description": "",
            "_model_name": "FloatProgressModel",
            "bar_style": "info",
            "max": 1,
            "_view_module": "@jupyter-widgets/controls",
            "_model_module_version": "1.5.0",
            "value": 0,
            "_view_count": null,
            "_view_module_version": "1.5.0",
            "orientation": "horizontal",
            "min": 0,
            "description_tooltip": null,
            "_model_module": "@jupyter-widgets/controls",
            "layout": "IPY_MODEL_a5dcab5725ea439082c5bba7eeef0d4c"
          }
        },
        "c803f1da3e864e9287e0538eb902e6fd": {
          "model_module": "@jupyter-widgets/controls",
          "model_name": "HTMLModel",
          "state": {
            "_view_name": "HTMLView",
            "style": "IPY_MODEL_9b3a4d0d87644189ab9f0f5607897038",
            "_dom_classes": [],
            "description": "",
            "_model_name": "HTMLModel",
            "placeholder": "​",
            "_view_module": "@jupyter-widgets/controls",
            "_model_module_version": "1.5.0",
            "value": " 0/? [00:00&lt;?, ?it/s]",
            "_view_count": null,
            "_view_module_version": "1.5.0",
            "description_tooltip": null,
            "_model_module": "@jupyter-widgets/controls",
            "layout": "IPY_MODEL_516b692078ec4c02ac3c42ff83d3abdf"
          }
        },
        "20f6cd45eb3b4d7e9a82c5b0b149f957": {
          "model_module": "@jupyter-widgets/controls",
          "model_name": "ProgressStyleModel",
          "state": {
            "_view_name": "StyleView",
            "_model_name": "ProgressStyleModel",
            "description_width": "initial",
            "_view_module": "@jupyter-widgets/base",
            "_model_module_version": "1.5.0",
            "_view_count": null,
            "_view_module_version": "1.2.0",
            "bar_color": null,
            "_model_module": "@jupyter-widgets/controls"
          }
        },
        "a5dcab5725ea439082c5bba7eeef0d4c": {
          "model_module": "@jupyter-widgets/base",
          "model_name": "LayoutModel",
          "state": {
            "_view_name": "LayoutView",
            "grid_template_rows": null,
            "right": null,
            "justify_content": null,
            "_view_module": "@jupyter-widgets/base",
            "overflow": null,
            "_model_module_version": "1.2.0",
            "_view_count": null,
            "flex_flow": null,
            "width": null,
            "min_width": null,
            "border": null,
            "align_items": null,
            "bottom": null,
            "_model_module": "@jupyter-widgets/base",
            "top": null,
            "grid_column": null,
            "overflow_y": null,
            "overflow_x": null,
            "grid_auto_flow": null,
            "grid_area": null,
            "grid_template_columns": null,
            "flex": null,
            "_model_name": "LayoutModel",
            "justify_items": null,
            "grid_row": null,
            "max_height": null,
            "align_content": null,
            "visibility": null,
            "align_self": null,
            "height": null,
            "min_height": null,
            "padding": null,
            "grid_auto_rows": null,
            "grid_gap": null,
            "max_width": null,
            "order": null,
            "_view_module_version": "1.2.0",
            "grid_template_areas": null,
            "object_position": null,
            "object_fit": null,
            "grid_auto_columns": null,
            "margin": null,
            "display": null,
            "left": null
          }
        },
        "9b3a4d0d87644189ab9f0f5607897038": {
          "model_module": "@jupyter-widgets/controls",
          "model_name": "DescriptionStyleModel",
          "state": {
            "_view_name": "StyleView",
            "_model_name": "DescriptionStyleModel",
            "description_width": "",
            "_view_module": "@jupyter-widgets/base",
            "_model_module_version": "1.5.0",
            "_view_count": null,
            "_view_module_version": "1.2.0",
            "_model_module": "@jupyter-widgets/controls"
          }
        },
        "516b692078ec4c02ac3c42ff83d3abdf": {
          "model_module": "@jupyter-widgets/base",
          "model_name": "LayoutModel",
          "state": {
            "_view_name": "LayoutView",
            "grid_template_rows": null,
            "right": null,
            "justify_content": null,
            "_view_module": "@jupyter-widgets/base",
            "overflow": null,
            "_model_module_version": "1.2.0",
            "_view_count": null,
            "flex_flow": null,
            "width": null,
            "min_width": null,
            "border": null,
            "align_items": null,
            "bottom": null,
            "_model_module": "@jupyter-widgets/base",
            "top": null,
            "grid_column": null,
            "overflow_y": null,
            "overflow_x": null,
            "grid_auto_flow": null,
            "grid_area": null,
            "grid_template_columns": null,
            "flex": null,
            "_model_name": "LayoutModel",
            "justify_items": null,
            "grid_row": null,
            "max_height": null,
            "align_content": null,
            "visibility": null,
            "align_self": null,
            "height": null,
            "min_height": null,
            "padding": null,
            "grid_auto_rows": null,
            "grid_gap": null,
            "max_width": null,
            "order": null,
            "_view_module_version": "1.2.0",
            "grid_template_areas": null,
            "object_position": null,
            "object_fit": null,
            "grid_auto_columns": null,
            "margin": null,
            "display": null,
            "left": null
          }
        },
        "017862b313c6458d83d7b79d668e1999": {
          "model_module": "@jupyter-widgets/controls",
          "model_name": "HBoxModel",
          "state": {
            "_view_name": "HBoxView",
            "_dom_classes": [],
            "_model_name": "HBoxModel",
            "_view_module": "@jupyter-widgets/controls",
            "_model_module_version": "1.5.0",
            "_view_count": null,
            "_view_module_version": "1.5.0",
            "box_style": "",
            "layout": "IPY_MODEL_1a59b16acbe04766bfcdb1a173c1a084",
            "_model_module": "@jupyter-widgets/controls",
            "children": [
              "IPY_MODEL_5f19e24cb7014ddca739680eb72f9ea3",
              "IPY_MODEL_4cb49be6b41147cbb71e6a0b291ae0b7"
            ]
          }
        },
        "1a59b16acbe04766bfcdb1a173c1a084": {
          "model_module": "@jupyter-widgets/base",
          "model_name": "LayoutModel",
          "state": {
            "_view_name": "LayoutView",
            "grid_template_rows": null,
            "right": null,
            "justify_content": null,
            "_view_module": "@jupyter-widgets/base",
            "overflow": null,
            "_model_module_version": "1.2.0",
            "_view_count": null,
            "flex_flow": null,
            "width": null,
            "min_width": null,
            "border": null,
            "align_items": null,
            "bottom": null,
            "_model_module": "@jupyter-widgets/base",
            "top": null,
            "grid_column": null,
            "overflow_y": null,
            "overflow_x": null,
            "grid_auto_flow": null,
            "grid_area": null,
            "grid_template_columns": null,
            "flex": null,
            "_model_name": "LayoutModel",
            "justify_items": null,
            "grid_row": null,
            "max_height": null,
            "align_content": null,
            "visibility": null,
            "align_self": null,
            "height": null,
            "min_height": null,
            "padding": null,
            "grid_auto_rows": null,
            "grid_gap": null,
            "max_width": null,
            "order": null,
            "_view_module_version": "1.2.0",
            "grid_template_areas": null,
            "object_position": null,
            "object_fit": null,
            "grid_auto_columns": null,
            "margin": null,
            "display": null,
            "left": null
          }
        },
        "5f19e24cb7014ddca739680eb72f9ea3": {
          "model_module": "@jupyter-widgets/controls",
          "model_name": "FloatProgressModel",
          "state": {
            "_view_name": "ProgressView",
            "style": "IPY_MODEL_103828843e104c239cfc7f224a687391",
            "_dom_classes": [],
            "description": "",
            "_model_name": "FloatProgressModel",
            "bar_style": "info",
            "max": 1,
            "_view_module": "@jupyter-widgets/controls",
            "_model_module_version": "1.5.0",
            "value": 1,
            "_view_count": null,
            "_view_module_version": "1.5.0",
            "orientation": "horizontal",
            "min": 0,
            "description_tooltip": null,
            "_model_module": "@jupyter-widgets/controls",
            "layout": "IPY_MODEL_f28cec460bee427abc9e415c30e677df"
          }
        },
        "4cb49be6b41147cbb71e6a0b291ae0b7": {
          "model_module": "@jupyter-widgets/controls",
          "model_name": "HTMLModel",
          "state": {
            "_view_name": "HTMLView",
            "style": "IPY_MODEL_c731f6decc4841e9b87e7b033f216bee",
            "_dom_classes": [],
            "description": "",
            "_model_name": "HTMLModel",
            "placeholder": "​",
            "_view_module": "@jupyter-widgets/controls",
            "_model_module_version": "1.5.0",
            "value": " 9920512/? [00:20&lt;00:00, 11418528.36it/s]",
            "_view_count": null,
            "_view_module_version": "1.5.0",
            "description_tooltip": null,
            "_model_module": "@jupyter-widgets/controls",
            "layout": "IPY_MODEL_953494dc49fc41e9916e29b3b257d73c"
          }
        },
        "103828843e104c239cfc7f224a687391": {
          "model_module": "@jupyter-widgets/controls",
          "model_name": "ProgressStyleModel",
          "state": {
            "_view_name": "StyleView",
            "_model_name": "ProgressStyleModel",
            "description_width": "initial",
            "_view_module": "@jupyter-widgets/base",
            "_model_module_version": "1.5.0",
            "_view_count": null,
            "_view_module_version": "1.2.0",
            "bar_color": null,
            "_model_module": "@jupyter-widgets/controls"
          }
        },
        "f28cec460bee427abc9e415c30e677df": {
          "model_module": "@jupyter-widgets/base",
          "model_name": "LayoutModel",
          "state": {
            "_view_name": "LayoutView",
            "grid_template_rows": null,
            "right": null,
            "justify_content": null,
            "_view_module": "@jupyter-widgets/base",
            "overflow": null,
            "_model_module_version": "1.2.0",
            "_view_count": null,
            "flex_flow": null,
            "width": null,
            "min_width": null,
            "border": null,
            "align_items": null,
            "bottom": null,
            "_model_module": "@jupyter-widgets/base",
            "top": null,
            "grid_column": null,
            "overflow_y": null,
            "overflow_x": null,
            "grid_auto_flow": null,
            "grid_area": null,
            "grid_template_columns": null,
            "flex": null,
            "_model_name": "LayoutModel",
            "justify_items": null,
            "grid_row": null,
            "max_height": null,
            "align_content": null,
            "visibility": null,
            "align_self": null,
            "height": null,
            "min_height": null,
            "padding": null,
            "grid_auto_rows": null,
            "grid_gap": null,
            "max_width": null,
            "order": null,
            "_view_module_version": "1.2.0",
            "grid_template_areas": null,
            "object_position": null,
            "object_fit": null,
            "grid_auto_columns": null,
            "margin": null,
            "display": null,
            "left": null
          }
        },
        "c731f6decc4841e9b87e7b033f216bee": {
          "model_module": "@jupyter-widgets/controls",
          "model_name": "DescriptionStyleModel",
          "state": {
            "_view_name": "StyleView",
            "_model_name": "DescriptionStyleModel",
            "description_width": "",
            "_view_module": "@jupyter-widgets/base",
            "_model_module_version": "1.5.0",
            "_view_count": null,
            "_view_module_version": "1.2.0",
            "_model_module": "@jupyter-widgets/controls"
          }
        },
        "953494dc49fc41e9916e29b3b257d73c": {
          "model_module": "@jupyter-widgets/base",
          "model_name": "LayoutModel",
          "state": {
            "_view_name": "LayoutView",
            "grid_template_rows": null,
            "right": null,
            "justify_content": null,
            "_view_module": "@jupyter-widgets/base",
            "overflow": null,
            "_model_module_version": "1.2.0",
            "_view_count": null,
            "flex_flow": null,
            "width": null,
            "min_width": null,
            "border": null,
            "align_items": null,
            "bottom": null,
            "_model_module": "@jupyter-widgets/base",
            "top": null,
            "grid_column": null,
            "overflow_y": null,
            "overflow_x": null,
            "grid_auto_flow": null,
            "grid_area": null,
            "grid_template_columns": null,
            "flex": null,
            "_model_name": "LayoutModel",
            "justify_items": null,
            "grid_row": null,
            "max_height": null,
            "align_content": null,
            "visibility": null,
            "align_self": null,
            "height": null,
            "min_height": null,
            "padding": null,
            "grid_auto_rows": null,
            "grid_gap": null,
            "max_width": null,
            "order": null,
            "_view_module_version": "1.2.0",
            "grid_template_areas": null,
            "object_position": null,
            "object_fit": null,
            "grid_auto_columns": null,
            "margin": null,
            "display": null,
            "left": null
          }
        },
        "4f602f52e00f4d2aa26c7326bd52a1bf": {
          "model_module": "@jupyter-widgets/controls",
          "model_name": "HBoxModel",
          "state": {
            "_view_name": "HBoxView",
            "_dom_classes": [],
            "_model_name": "HBoxModel",
            "_view_module": "@jupyter-widgets/controls",
            "_model_module_version": "1.5.0",
            "_view_count": null,
            "_view_module_version": "1.5.0",
            "box_style": "",
            "layout": "IPY_MODEL_838a6b4cb9dc49048c085df698aa318c",
            "_model_module": "@jupyter-widgets/controls",
            "children": [
              "IPY_MODEL_b7bac2942d42413cba2e77a7cf917145",
              "IPY_MODEL_e7d6500cba52435b88b200ea422dccfa"
            ]
          }
        },
        "838a6b4cb9dc49048c085df698aa318c": {
          "model_module": "@jupyter-widgets/base",
          "model_name": "LayoutModel",
          "state": {
            "_view_name": "LayoutView",
            "grid_template_rows": null,
            "right": null,
            "justify_content": null,
            "_view_module": "@jupyter-widgets/base",
            "overflow": null,
            "_model_module_version": "1.2.0",
            "_view_count": null,
            "flex_flow": null,
            "width": null,
            "min_width": null,
            "border": null,
            "align_items": null,
            "bottom": null,
            "_model_module": "@jupyter-widgets/base",
            "top": null,
            "grid_column": null,
            "overflow_y": null,
            "overflow_x": null,
            "grid_auto_flow": null,
            "grid_area": null,
            "grid_template_columns": null,
            "flex": null,
            "_model_name": "LayoutModel",
            "justify_items": null,
            "grid_row": null,
            "max_height": null,
            "align_content": null,
            "visibility": null,
            "align_self": null,
            "height": null,
            "min_height": null,
            "padding": null,
            "grid_auto_rows": null,
            "grid_gap": null,
            "max_width": null,
            "order": null,
            "_view_module_version": "1.2.0",
            "grid_template_areas": null,
            "object_position": null,
            "object_fit": null,
            "grid_auto_columns": null,
            "margin": null,
            "display": null,
            "left": null
          }
        },
        "b7bac2942d42413cba2e77a7cf917145": {
          "model_module": "@jupyter-widgets/controls",
          "model_name": "FloatProgressModel",
          "state": {
            "_view_name": "ProgressView",
            "style": "IPY_MODEL_6ce98c79614f4f13b9f99823505d6178",
            "_dom_classes": [],
            "description": "",
            "_model_name": "FloatProgressModel",
            "bar_style": "success",
            "max": 1,
            "_view_module": "@jupyter-widgets/controls",
            "_model_module_version": "1.5.0",
            "value": 1,
            "_view_count": null,
            "_view_module_version": "1.5.0",
            "orientation": "horizontal",
            "min": 0,
            "description_tooltip": null,
            "_model_module": "@jupyter-widgets/controls",
            "layout": "IPY_MODEL_ff3c0beb47124fc8a4b7b011927b2424"
          }
        },
        "e7d6500cba52435b88b200ea422dccfa": {
          "model_module": "@jupyter-widgets/controls",
          "model_name": "HTMLModel",
          "state": {
            "_view_name": "HTMLView",
            "style": "IPY_MODEL_a6720b47819d4ebe9777ef0e2bc139eb",
            "_dom_classes": [],
            "description": "",
            "_model_name": "HTMLModel",
            "placeholder": "​",
            "_view_module": "@jupyter-widgets/controls",
            "_model_module_version": "1.5.0",
            "value": " 32768/? [00:00&lt;00:00, 271603.99it/s]",
            "_view_count": null,
            "_view_module_version": "1.5.0",
            "description_tooltip": null,
            "_model_module": "@jupyter-widgets/controls",
            "layout": "IPY_MODEL_35b6abbdf6f34b80b5a5126b79e02d3d"
          }
        },
        "6ce98c79614f4f13b9f99823505d6178": {
          "model_module": "@jupyter-widgets/controls",
          "model_name": "ProgressStyleModel",
          "state": {
            "_view_name": "StyleView",
            "_model_name": "ProgressStyleModel",
            "description_width": "initial",
            "_view_module": "@jupyter-widgets/base",
            "_model_module_version": "1.5.0",
            "_view_count": null,
            "_view_module_version": "1.2.0",
            "bar_color": null,
            "_model_module": "@jupyter-widgets/controls"
          }
        },
        "ff3c0beb47124fc8a4b7b011927b2424": {
          "model_module": "@jupyter-widgets/base",
          "model_name": "LayoutModel",
          "state": {
            "_view_name": "LayoutView",
            "grid_template_rows": null,
            "right": null,
            "justify_content": null,
            "_view_module": "@jupyter-widgets/base",
            "overflow": null,
            "_model_module_version": "1.2.0",
            "_view_count": null,
            "flex_flow": null,
            "width": null,
            "min_width": null,
            "border": null,
            "align_items": null,
            "bottom": null,
            "_model_module": "@jupyter-widgets/base",
            "top": null,
            "grid_column": null,
            "overflow_y": null,
            "overflow_x": null,
            "grid_auto_flow": null,
            "grid_area": null,
            "grid_template_columns": null,
            "flex": null,
            "_model_name": "LayoutModel",
            "justify_items": null,
            "grid_row": null,
            "max_height": null,
            "align_content": null,
            "visibility": null,
            "align_self": null,
            "height": null,
            "min_height": null,
            "padding": null,
            "grid_auto_rows": null,
            "grid_gap": null,
            "max_width": null,
            "order": null,
            "_view_module_version": "1.2.0",
            "grid_template_areas": null,
            "object_position": null,
            "object_fit": null,
            "grid_auto_columns": null,
            "margin": null,
            "display": null,
            "left": null
          }
        },
        "a6720b47819d4ebe9777ef0e2bc139eb": {
          "model_module": "@jupyter-widgets/controls",
          "model_name": "DescriptionStyleModel",
          "state": {
            "_view_name": "StyleView",
            "_model_name": "DescriptionStyleModel",
            "description_width": "",
            "_view_module": "@jupyter-widgets/base",
            "_model_module_version": "1.5.0",
            "_view_count": null,
            "_view_module_version": "1.2.0",
            "_model_module": "@jupyter-widgets/controls"
          }
        },
        "35b6abbdf6f34b80b5a5126b79e02d3d": {
          "model_module": "@jupyter-widgets/base",
          "model_name": "LayoutModel",
          "state": {
            "_view_name": "LayoutView",
            "grid_template_rows": null,
            "right": null,
            "justify_content": null,
            "_view_module": "@jupyter-widgets/base",
            "overflow": null,
            "_model_module_version": "1.2.0",
            "_view_count": null,
            "flex_flow": null,
            "width": null,
            "min_width": null,
            "border": null,
            "align_items": null,
            "bottom": null,
            "_model_module": "@jupyter-widgets/base",
            "top": null,
            "grid_column": null,
            "overflow_y": null,
            "overflow_x": null,
            "grid_auto_flow": null,
            "grid_area": null,
            "grid_template_columns": null,
            "flex": null,
            "_model_name": "LayoutModel",
            "justify_items": null,
            "grid_row": null,
            "max_height": null,
            "align_content": null,
            "visibility": null,
            "align_self": null,
            "height": null,
            "min_height": null,
            "padding": null,
            "grid_auto_rows": null,
            "grid_gap": null,
            "max_width": null,
            "order": null,
            "_view_module_version": "1.2.0",
            "grid_template_areas": null,
            "object_position": null,
            "object_fit": null,
            "grid_auto_columns": null,
            "margin": null,
            "display": null,
            "left": null
          }
        },
        "41c45de270b84be98ad75daeafd667b5": {
          "model_module": "@jupyter-widgets/controls",
          "model_name": "HBoxModel",
          "state": {
            "_view_name": "HBoxView",
            "_dom_classes": [],
            "_model_name": "HBoxModel",
            "_view_module": "@jupyter-widgets/controls",
            "_model_module_version": "1.5.0",
            "_view_count": null,
            "_view_module_version": "1.5.0",
            "box_style": "",
            "layout": "IPY_MODEL_5f7c1228d014404db9aa315d8eb380b4",
            "_model_module": "@jupyter-widgets/controls",
            "children": [
              "IPY_MODEL_0d5078900ac9492eb0fee665aa95e37a",
              "IPY_MODEL_454480760cd642de8b510859ff9289a4"
            ]
          }
        },
        "5f7c1228d014404db9aa315d8eb380b4": {
          "model_module": "@jupyter-widgets/base",
          "model_name": "LayoutModel",
          "state": {
            "_view_name": "LayoutView",
            "grid_template_rows": null,
            "right": null,
            "justify_content": null,
            "_view_module": "@jupyter-widgets/base",
            "overflow": null,
            "_model_module_version": "1.2.0",
            "_view_count": null,
            "flex_flow": null,
            "width": null,
            "min_width": null,
            "border": null,
            "align_items": null,
            "bottom": null,
            "_model_module": "@jupyter-widgets/base",
            "top": null,
            "grid_column": null,
            "overflow_y": null,
            "overflow_x": null,
            "grid_auto_flow": null,
            "grid_area": null,
            "grid_template_columns": null,
            "flex": null,
            "_model_name": "LayoutModel",
            "justify_items": null,
            "grid_row": null,
            "max_height": null,
            "align_content": null,
            "visibility": null,
            "align_self": null,
            "height": null,
            "min_height": null,
            "padding": null,
            "grid_auto_rows": null,
            "grid_gap": null,
            "max_width": null,
            "order": null,
            "_view_module_version": "1.2.0",
            "grid_template_areas": null,
            "object_position": null,
            "object_fit": null,
            "grid_auto_columns": null,
            "margin": null,
            "display": null,
            "left": null
          }
        },
        "0d5078900ac9492eb0fee665aa95e37a": {
          "model_module": "@jupyter-widgets/controls",
          "model_name": "FloatProgressModel",
          "state": {
            "_view_name": "ProgressView",
            "style": "IPY_MODEL_55c93bd59a684790877c0c28ed5978f9",
            "_dom_classes": [],
            "description": "",
            "_model_name": "FloatProgressModel",
            "bar_style": "info",
            "max": 1,
            "_view_module": "@jupyter-widgets/controls",
            "_model_module_version": "1.5.0",
            "value": 1,
            "_view_count": null,
            "_view_module_version": "1.5.0",
            "orientation": "horizontal",
            "min": 0,
            "description_tooltip": null,
            "_model_module": "@jupyter-widgets/controls",
            "layout": "IPY_MODEL_af93b3ed1a6c4a15b5ba2dfd19d2034c"
          }
        },
        "454480760cd642de8b510859ff9289a4": {
          "model_module": "@jupyter-widgets/controls",
          "model_name": "HTMLModel",
          "state": {
            "_view_name": "HTMLView",
            "style": "IPY_MODEL_dd797d356daa47f8b83eac48463aec56",
            "_dom_classes": [],
            "description": "",
            "_model_name": "HTMLModel",
            "placeholder": "​",
            "_view_module": "@jupyter-widgets/controls",
            "_model_module_version": "1.5.0",
            "value": " 1654784/? [00:19&lt;00:00, 6858182.32it/s]",
            "_view_count": null,
            "_view_module_version": "1.5.0",
            "description_tooltip": null,
            "_model_module": "@jupyter-widgets/controls",
            "layout": "IPY_MODEL_4ad2d6f19169463abcc404122645904b"
          }
        },
        "55c93bd59a684790877c0c28ed5978f9": {
          "model_module": "@jupyter-widgets/controls",
          "model_name": "ProgressStyleModel",
          "state": {
            "_view_name": "StyleView",
            "_model_name": "ProgressStyleModel",
            "description_width": "initial",
            "_view_module": "@jupyter-widgets/base",
            "_model_module_version": "1.5.0",
            "_view_count": null,
            "_view_module_version": "1.2.0",
            "bar_color": null,
            "_model_module": "@jupyter-widgets/controls"
          }
        },
        "af93b3ed1a6c4a15b5ba2dfd19d2034c": {
          "model_module": "@jupyter-widgets/base",
          "model_name": "LayoutModel",
          "state": {
            "_view_name": "LayoutView",
            "grid_template_rows": null,
            "right": null,
            "justify_content": null,
            "_view_module": "@jupyter-widgets/base",
            "overflow": null,
            "_model_module_version": "1.2.0",
            "_view_count": null,
            "flex_flow": null,
            "width": null,
            "min_width": null,
            "border": null,
            "align_items": null,
            "bottom": null,
            "_model_module": "@jupyter-widgets/base",
            "top": null,
            "grid_column": null,
            "overflow_y": null,
            "overflow_x": null,
            "grid_auto_flow": null,
            "grid_area": null,
            "grid_template_columns": null,
            "flex": null,
            "_model_name": "LayoutModel",
            "justify_items": null,
            "grid_row": null,
            "max_height": null,
            "align_content": null,
            "visibility": null,
            "align_self": null,
            "height": null,
            "min_height": null,
            "padding": null,
            "grid_auto_rows": null,
            "grid_gap": null,
            "max_width": null,
            "order": null,
            "_view_module_version": "1.2.0",
            "grid_template_areas": null,
            "object_position": null,
            "object_fit": null,
            "grid_auto_columns": null,
            "margin": null,
            "display": null,
            "left": null
          }
        },
        "dd797d356daa47f8b83eac48463aec56": {
          "model_module": "@jupyter-widgets/controls",
          "model_name": "DescriptionStyleModel",
          "state": {
            "_view_name": "StyleView",
            "_model_name": "DescriptionStyleModel",
            "description_width": "",
            "_view_module": "@jupyter-widgets/base",
            "_model_module_version": "1.5.0",
            "_view_count": null,
            "_view_module_version": "1.2.0",
            "_model_module": "@jupyter-widgets/controls"
          }
        },
        "4ad2d6f19169463abcc404122645904b": {
          "model_module": "@jupyter-widgets/base",
          "model_name": "LayoutModel",
          "state": {
            "_view_name": "LayoutView",
            "grid_template_rows": null,
            "right": null,
            "justify_content": null,
            "_view_module": "@jupyter-widgets/base",
            "overflow": null,
            "_model_module_version": "1.2.0",
            "_view_count": null,
            "flex_flow": null,
            "width": null,
            "min_width": null,
            "border": null,
            "align_items": null,
            "bottom": null,
            "_model_module": "@jupyter-widgets/base",
            "top": null,
            "grid_column": null,
            "overflow_y": null,
            "overflow_x": null,
            "grid_auto_flow": null,
            "grid_area": null,
            "grid_template_columns": null,
            "flex": null,
            "_model_name": "LayoutModel",
            "justify_items": null,
            "grid_row": null,
            "max_height": null,
            "align_content": null,
            "visibility": null,
            "align_self": null,
            "height": null,
            "min_height": null,
            "padding": null,
            "grid_auto_rows": null,
            "grid_gap": null,
            "max_width": null,
            "order": null,
            "_view_module_version": "1.2.0",
            "grid_template_areas": null,
            "object_position": null,
            "object_fit": null,
            "grid_auto_columns": null,
            "margin": null,
            "display": null,
            "left": null
          }
        },
        "6340df1aa20d49ee814e8dd854d7b259": {
          "model_module": "@jupyter-widgets/controls",
          "model_name": "HBoxModel",
          "state": {
            "_view_name": "HBoxView",
            "_dom_classes": [],
            "_model_name": "HBoxModel",
            "_view_module": "@jupyter-widgets/controls",
            "_model_module_version": "1.5.0",
            "_view_count": null,
            "_view_module_version": "1.5.0",
            "box_style": "",
            "layout": "IPY_MODEL_84a6eb5aea6f451394ff3f65a1313b24",
            "_model_module": "@jupyter-widgets/controls",
            "children": [
              "IPY_MODEL_3353358e503241de99011d870fe3ee86",
              "IPY_MODEL_8305b4a99e684441bac8bcde5bf37d03"
            ]
          }
        },
        "84a6eb5aea6f451394ff3f65a1313b24": {
          "model_module": "@jupyter-widgets/base",
          "model_name": "LayoutModel",
          "state": {
            "_view_name": "LayoutView",
            "grid_template_rows": null,
            "right": null,
            "justify_content": null,
            "_view_module": "@jupyter-widgets/base",
            "overflow": null,
            "_model_module_version": "1.2.0",
            "_view_count": null,
            "flex_flow": null,
            "width": null,
            "min_width": null,
            "border": null,
            "align_items": null,
            "bottom": null,
            "_model_module": "@jupyter-widgets/base",
            "top": null,
            "grid_column": null,
            "overflow_y": null,
            "overflow_x": null,
            "grid_auto_flow": null,
            "grid_area": null,
            "grid_template_columns": null,
            "flex": null,
            "_model_name": "LayoutModel",
            "justify_items": null,
            "grid_row": null,
            "max_height": null,
            "align_content": null,
            "visibility": null,
            "align_self": null,
            "height": null,
            "min_height": null,
            "padding": null,
            "grid_auto_rows": null,
            "grid_gap": null,
            "max_width": null,
            "order": null,
            "_view_module_version": "1.2.0",
            "grid_template_areas": null,
            "object_position": null,
            "object_fit": null,
            "grid_auto_columns": null,
            "margin": null,
            "display": null,
            "left": null
          }
        },
        "3353358e503241de99011d870fe3ee86": {
          "model_module": "@jupyter-widgets/controls",
          "model_name": "FloatProgressModel",
          "state": {
            "_view_name": "ProgressView",
            "style": "IPY_MODEL_b26671dfbaac4a8dbbb40b74b627146b",
            "_dom_classes": [],
            "description": "",
            "_model_name": "FloatProgressModel",
            "bar_style": "success",
            "max": 1,
            "_view_module": "@jupyter-widgets/controls",
            "_model_module_version": "1.5.0",
            "value": 1,
            "_view_count": null,
            "_view_module_version": "1.5.0",
            "orientation": "horizontal",
            "min": 0,
            "description_tooltip": null,
            "_model_module": "@jupyter-widgets/controls",
            "layout": "IPY_MODEL_eb9c5285f2b348fc88f916c7e5e6f2cc"
          }
        },
        "8305b4a99e684441bac8bcde5bf37d03": {
          "model_module": "@jupyter-widgets/controls",
          "model_name": "HTMLModel",
          "state": {
            "_view_name": "HTMLView",
            "style": "IPY_MODEL_d75d73d2d9a5427cbbcdc06527195ee3",
            "_dom_classes": [],
            "description": "",
            "_model_name": "HTMLModel",
            "placeholder": "​",
            "_view_module": "@jupyter-widgets/controls",
            "_model_module_version": "1.5.0",
            "value": " 8192/? [00:07&lt;00:00, 1106.45it/s]",
            "_view_count": null,
            "_view_module_version": "1.5.0",
            "description_tooltip": null,
            "_model_module": "@jupyter-widgets/controls",
            "layout": "IPY_MODEL_d5a82a993da140f585c004d1698de97d"
          }
        },
        "b26671dfbaac4a8dbbb40b74b627146b": {
          "model_module": "@jupyter-widgets/controls",
          "model_name": "ProgressStyleModel",
          "state": {
            "_view_name": "StyleView",
            "_model_name": "ProgressStyleModel",
            "description_width": "initial",
            "_view_module": "@jupyter-widgets/base",
            "_model_module_version": "1.5.0",
            "_view_count": null,
            "_view_module_version": "1.2.0",
            "bar_color": null,
            "_model_module": "@jupyter-widgets/controls"
          }
        },
        "eb9c5285f2b348fc88f916c7e5e6f2cc": {
          "model_module": "@jupyter-widgets/base",
          "model_name": "LayoutModel",
          "state": {
            "_view_name": "LayoutView",
            "grid_template_rows": null,
            "right": null,
            "justify_content": null,
            "_view_module": "@jupyter-widgets/base",
            "overflow": null,
            "_model_module_version": "1.2.0",
            "_view_count": null,
            "flex_flow": null,
            "width": null,
            "min_width": null,
            "border": null,
            "align_items": null,
            "bottom": null,
            "_model_module": "@jupyter-widgets/base",
            "top": null,
            "grid_column": null,
            "overflow_y": null,
            "overflow_x": null,
            "grid_auto_flow": null,
            "grid_area": null,
            "grid_template_columns": null,
            "flex": null,
            "_model_name": "LayoutModel",
            "justify_items": null,
            "grid_row": null,
            "max_height": null,
            "align_content": null,
            "visibility": null,
            "align_self": null,
            "height": null,
            "min_height": null,
            "padding": null,
            "grid_auto_rows": null,
            "grid_gap": null,
            "max_width": null,
            "order": null,
            "_view_module_version": "1.2.0",
            "grid_template_areas": null,
            "object_position": null,
            "object_fit": null,
            "grid_auto_columns": null,
            "margin": null,
            "display": null,
            "left": null
          }
        },
        "d75d73d2d9a5427cbbcdc06527195ee3": {
          "model_module": "@jupyter-widgets/controls",
          "model_name": "DescriptionStyleModel",
          "state": {
            "_view_name": "StyleView",
            "_model_name": "DescriptionStyleModel",
            "description_width": "",
            "_view_module": "@jupyter-widgets/base",
            "_model_module_version": "1.5.0",
            "_view_count": null,
            "_view_module_version": "1.2.0",
            "_model_module": "@jupyter-widgets/controls"
          }
        },
        "d5a82a993da140f585c004d1698de97d": {
          "model_module": "@jupyter-widgets/base",
          "model_name": "LayoutModel",
          "state": {
            "_view_name": "LayoutView",
            "grid_template_rows": null,
            "right": null,
            "justify_content": null,
            "_view_module": "@jupyter-widgets/base",
            "overflow": null,
            "_model_module_version": "1.2.0",
            "_view_count": null,
            "flex_flow": null,
            "width": null,
            "min_width": null,
            "border": null,
            "align_items": null,
            "bottom": null,
            "_model_module": "@jupyter-widgets/base",
            "top": null,
            "grid_column": null,
            "overflow_y": null,
            "overflow_x": null,
            "grid_auto_flow": null,
            "grid_area": null,
            "grid_template_columns": null,
            "flex": null,
            "_model_name": "LayoutModel",
            "justify_items": null,
            "grid_row": null,
            "max_height": null,
            "align_content": null,
            "visibility": null,
            "align_self": null,
            "height": null,
            "min_height": null,
            "padding": null,
            "grid_auto_rows": null,
            "grid_gap": null,
            "max_width": null,
            "order": null,
            "_view_module_version": "1.2.0",
            "grid_template_areas": null,
            "object_position": null,
            "object_fit": null,
            "grid_auto_columns": null,
            "margin": null,
            "display": null,
            "left": null
          }
        }
      }
    }
  },
  "cells": [
    {
      "cell_type": "markdown",
      "metadata": {
        "id": "view-in-github",
        "colab_type": "text"
      },
      "source": [
        "<a href=\"https://colab.research.google.com/github/hezhengda/google-colab/blob/main/Pytorch_for_deep_learning.ipynb\" target=\"_parent\"><img src=\"https://colab.research.google.com/assets/colab-badge.svg\" alt=\"Open In Colab\"/></a>"
      ]
    },
    {
      "cell_type": "markdown",
      "metadata": {
        "id": "RN7SxhmtMGg7"
      },
      "source": [
        "# Basics of Pytorch"
      ]
    },
    {
      "cell_type": "markdown",
      "metadata": {
        "id": "ZQ8Tl1T8MR2y"
      },
      "source": [
        "**Traditional programming**: input + algorithm --> output\n",
        "\n",
        "**New paradigm**: input + output --> algorithm (if we cannot write the algorithm and there are many outliers)\n",
        "\n"
      ]
    },
    {
      "cell_type": "markdown",
      "metadata": {
        "id": "-48c_Po9Mxvc"
      },
      "source": [
        "## Pytorch jargons"
      ]
    },
    {
      "cell_type": "markdown",
      "metadata": {
        "id": "4h-1AOnZND79"
      },
      "source": [
        "**Tensor**: A tensor can be a number, a vector, a matrix or any n-dimensional array (so it is just another name for n-dimensional array [NDA])\n",
        "\n",
        "The difference between tensor and n-dimensional array:\n",
        "* The size of tensor should not change\n",
        "* When you try to do a tensor operation, do it in the tensor type because it is implemented in C++ (which means really fast), but if you do it in python, then it is really slow."
      ]
    },
    {
      "cell_type": "code",
      "metadata": {
        "id": "xTf1E8KVN4jA"
      },
      "source": [
        "# import pytorch\n",
        "import torch"
      ],
      "execution_count": null,
      "outputs": []
    },
    {
      "cell_type": "code",
      "metadata": {
        "colab": {
          "base_uri": "https://localhost:8080/"
        },
        "id": "gNznCmfNN7bj",
        "outputId": "15e1643f-6051-44c9-de6e-b79e16edadcc"
      },
      "source": [
        "# set a number\n",
        "a = torch.tensor(4.0)\n",
        "print(a,'|', a.dtype,'|', a.shape)\n",
        "\n",
        "# set a vector\n",
        "b = torch.tensor([1, 2, 3, 4])\n",
        "print(b,'|',  b.dtype,'|',  b.shape)\n",
        "\n",
        "# set a matrix\n",
        "c = torch.tensor([[1, 2], [3, 4], [5, 6]])\n",
        "print(c,'|',  c.dtype,'|',  c.shape)"
      ],
      "execution_count": null,
      "outputs": [
        {
          "output_type": "stream",
          "text": [
            "tensor(4.) | torch.float32 | torch.Size([])\n",
            "tensor([1, 2, 3, 4]) | torch.int64 | torch.Size([4])\n",
            "tensor([[1, 2],\n",
            "        [3, 4],\n",
            "        [5, 6]]) | torch.int64 | torch.Size([3, 2])\n"
          ],
          "name": "stdout"
        }
      ]
    },
    {
      "cell_type": "markdown",
      "metadata": {
        "id": "Y_Ifj3KTPR18"
      },
      "source": [
        "## Create tensors\n",
        "\n",
        "The `requires_grad` is important to understand. This is used for improving the efficiency of your code, because when your code gets more complex, the time on calculating gradients becomes larger, so we need to find a way to tell the program which gradient we need and which we needn't, if we set `requires_grad=True` to a variable, that means we want to have its derivative. "
      ]
    },
    {
      "cell_type": "code",
      "metadata": {
        "id": "bZeM7XnLOEVx"
      },
      "source": [
        "x = torch.tensor(3.)\n",
        "w = torch.tensor(4., requires_grad=True) # what's the meaning of this \"requires_grad\"?\n",
        "b = torch.tensor(5., requires_grad=True)"
      ],
      "execution_count": null,
      "outputs": []
    },
    {
      "cell_type": "code",
      "metadata": {
        "colab": {
          "base_uri": "https://localhost:8080/"
        },
        "id": "2_0ltr_xP5V7",
        "outputId": "87f040be-7e7e-41ed-fa0c-ac2a8045d51a"
      },
      "source": [
        "# Arithmatic operations\n",
        "y = w * x + b\n",
        "print('{}, {}'.format(y, y.requires_grad))"
      ],
      "execution_count": null,
      "outputs": [
        {
          "output_type": "stream",
          "text": [
            "17.0, True\n"
          ],
          "name": "stdout"
        }
      ]
    },
    {
      "cell_type": "code",
      "metadata": {
        "id": "LEw825W2P9GN"
      },
      "source": [
        "# compute derivatives --> for gradient descent\n",
        "y.backward()"
      ],
      "execution_count": null,
      "outputs": []
    },
    {
      "cell_type": "code",
      "metadata": {
        "colab": {
          "base_uri": "https://localhost:8080/"
        },
        "id": "ba5Eqi03QPRI",
        "outputId": "8f80d2d1-f6d3-4d2f-9fdc-6cd1fe3ee585"
      },
      "source": [
        "# display the gradients\n",
        "print('dy/dx:', x.grad) # output None because x doesn't have \"requires_grad\"\n",
        "print('dy/dw:', w.grad) # 3 because x = 3\n",
        "print('dy/db:', b.grad) # 1 because the coefficient of b is 1"
      ],
      "execution_count": null,
      "outputs": [
        {
          "output_type": "stream",
          "text": [
            "dy/dx: None\n",
            "dy/dw: tensor(3.)\n",
            "dy/db: tensor(1.)\n"
          ],
          "name": "stdout"
        }
      ]
    },
    {
      "cell_type": "markdown",
      "metadata": {
        "id": "Kv1YAHxkTjES"
      },
      "source": [
        "## Questions\n",
        "\n",
        "**Problems**\n",
        "Now let's try to solve some questions:\n",
        "\n",
        "1. What if in $y=w\\times x+b$, the `w`, `x` and `b` are all 1-dimensional array? What about two-dimensional array? What will `w.grad` looks like?\n",
        "\n",
        "  * When the tensor is 1D tensor, there is no gradient ?\n",
        "\n",
        "2. What if we have the **chain role**, which means: $y = w\\times x + b$, $w = m\\times p + q$? What will happen if we want to calcualte `p.grad`?\n",
        "\n",
        "  * If you make sure that you have the leaf node, then the gradient is correct, but if not, then you need to use other settings, e.g. `retain_grad()` on the non-leaf tensor."
      ]
    },
    {
      "cell_type": "code",
      "metadata": {
        "colab": {
          "base_uri": "https://localhost:8080/"
        },
        "id": "iFUa5H7nUrIv",
        "outputId": "b186112e-90d4-46ee-9ee6-bc99381c6992"
      },
      "source": [
        "# Problem 1 - tensor operation is by element\n",
        "x = torch.tensor([1.0, 2.0])\n",
        "w = torch.tensor([1.0, 2.0], requires_grad=True)\n",
        "b = torch.tensor([1.0, 2.0], requires_grad=True)\n",
        "y = w * x + b\n",
        "print(y)\n",
        "print('dy/dw:', w.grad)"
      ],
      "execution_count": null,
      "outputs": [
        {
          "output_type": "stream",
          "text": [
            "tensor([2., 6.], grad_fn=<AddBackward0>)\n",
            "dy/dw: None\n"
          ],
          "name": "stdout"
        }
      ]
    },
    {
      "cell_type": "code",
      "metadata": {
        "colab": {
          "base_uri": "https://localhost:8080/"
        },
        "id": "GyJlx5vVV5n8",
        "outputId": "18916772-d840-4a62-97a5-9933612704be"
      },
      "source": [
        "# Problem 2 - chain role \n",
        "x = torch.tensor(1.0)\n",
        "w = torch.tensor(2.0, requires_grad=True)\n",
        "b = torch.tensor(5.0, requires_grad=True)\n",
        "\n",
        "c = w + b \n",
        "c.retain_grad() # since c is a non-leaf node, then you need to use \n",
        "y = c * w * x + b\n",
        "\n",
        "# calculate gradient\n",
        "y.backward()\n",
        "print('dy/dw: ', w.grad)\n",
        "print('dy/dc: ', c.grad)"
      ],
      "execution_count": null,
      "outputs": [
        {
          "output_type": "stream",
          "text": [
            "dy/dw:  tensor(9.)\n",
            "dy/dc:  tensor(2.)\n"
          ],
          "name": "stdout"
        }
      ]
    },
    {
      "cell_type": "markdown",
      "metadata": {
        "id": "4TzrHXY3Rd3c"
      },
      "source": [
        "## Interoperability with Numpy"
      ]
    },
    {
      "cell_type": "markdown",
      "metadata": {
        "id": "pZhCEnllR6l2"
      },
      "source": [
        "If you want to change numpy array to tensor, you need to use `torch.from_numpy(array)`.\n",
        "\n",
        "Convert from pytorch tensor to numpy array: `y.numpy()`"
      ]
    },
    {
      "cell_type": "code",
      "metadata": {
        "id": "HcHq6TSAQmzE"
      },
      "source": [
        "# numpy is written in C++, which means this is very efficient\n",
        "import numpy as np"
      ],
      "execution_count": null,
      "outputs": []
    },
    {
      "cell_type": "code",
      "metadata": {
        "colab": {
          "base_uri": "https://localhost:8080/"
        },
        "id": "mUFOeD63RmCw",
        "outputId": "8075281f-882a-464a-c228-3858b13a803e"
      },
      "source": [
        "x = np.array([[1, 2],[3, 4]])\n",
        "y = torch.from_numpy(x)\n",
        "print(y, y.dtype)\n",
        "z = y.numpy()\n",
        "print(z, z.dtype)"
      ],
      "execution_count": null,
      "outputs": [
        {
          "output_type": "stream",
          "text": [
            "tensor([[1, 2],\n",
            "        [3, 4]]) torch.int64\n",
            "[[1 2]\n",
            " [3 4]] int64\n"
          ],
          "name": "stdout"
        }
      ]
    },
    {
      "cell_type": "markdown",
      "metadata": {
        "id": "OJ1PmuQIYKgi"
      },
      "source": [
        "# Linear Regression of PyTorch"
      ]
    },
    {
      "cell_type": "markdown",
      "metadata": {
        "id": "qpA-ShfjYUFC"
      },
      "source": [
        "Linear Regression means that we want to rationalize the data by using a linear model: $y = wx+b$. (w: weights, b: bias) We know all the $(x,y)$, now we want to find the optimal coefficient $(m,b)$. Notice that in here, `w` could be a matrix and `b` could also be a vector when `x` and `y` are vectors.\n",
        "\n",
        "This is a really simple assumption and usually it is the first step of our modeling process."
      ]
    },
    {
      "cell_type": "markdown",
      "metadata": {
        "id": "HaGxWNPwaQr9"
      },
      "source": [
        "Our first problem is to predict the yield of apple and orange by giving a certain temperature, rainfall and humidity."
      ]
    },
    {
      "cell_type": "markdown",
      "metadata": {
        "id": "lMZm1yUvf9C1"
      },
      "source": [
        "## Set inputs and targets"
      ]
    },
    {
      "cell_type": "code",
      "metadata": {
        "id": "rHcATp1lSqzK"
      },
      "source": [
        "# Input (temp, rainfall, humidity)\n",
        "inputs = np.array([[73, 67, 43],\n",
        "                   [91, 88, 64],\n",
        "                   [87, 134, 58],\n",
        "                   [102, 43, 37],\n",
        "                   [69, 96, 70]], dtype='float32')"
      ],
      "execution_count": null,
      "outputs": []
    },
    {
      "cell_type": "code",
      "metadata": {
        "id": "JPY5f6yxaos3"
      },
      "source": [
        "# Targets (yield_apples, yield_oranges)\n",
        "targets = np.array([[56, 70],\n",
        "                    [81, 101],\n",
        "                    [119, 133],\n",
        "                    [22, 37],\n",
        "                    [103, 119]], dtype='float32')"
      ],
      "execution_count": null,
      "outputs": []
    },
    {
      "cell_type": "markdown",
      "metadata": {
        "id": "vLlMluBfa4ka"
      },
      "source": [
        "The reason why we seperate the input variables and target variables is because we need to treat them differently in our program. Also we've created numpy arrays, because this is typically how you would work with training data: read some CSV files as numpy arrays, do some processing, and then convert them to Pytorch tensors to do further training."
      ]
    },
    {
      "cell_type": "code",
      "metadata": {
        "id": "MnTLuX6jazeE"
      },
      "source": [
        "# convert numpy array for torch tensors\n",
        "inputs_torch = torch.from_numpy(inputs)\n",
        "targets_torch = torch.from_numpy(targets)"
      ],
      "execution_count": null,
      "outputs": []
    },
    {
      "cell_type": "code",
      "metadata": {
        "colab": {
          "base_uri": "https://localhost:8080/"
        },
        "id": "a-tqZKydbUf6",
        "outputId": "d9528d10-12a4-4cd8-979b-7749b7cb23c7"
      },
      "source": [
        "# start the value of weight and bias from a random value\n",
        "# since we have 2 targets and 3 inputs, then our weight should be a 2x3 matrix\n",
        "# our bias should have same size as our targets\n",
        "w = torch.randn(2, 3, requires_grad=True)\n",
        "b = torch.randn(1, 2, requires_grad=True)\n",
        "print(w)\n",
        "print(b)"
      ],
      "execution_count": null,
      "outputs": [
        {
          "output_type": "stream",
          "text": [
            "tensor([[ 1.3066,  0.9426, -1.5872],\n",
            "        [-1.2522,  1.0184, -1.1143]], requires_grad=True)\n",
            "tensor([[0.3716, 0.0434]], requires_grad=True)\n"
          ],
          "name": "stdout"
        }
      ]
    },
    {
      "cell_type": "markdown",
      "metadata": {
        "id": "InOucMrTcNiB"
      },
      "source": [
        "When our weight is a matrix, then our linear regression can be written as:\n",
        "$$y = x \\cdot w^T + b$$\n",
        "\n",
        "The size of our weight matrix is related to the number of features and the number of outputs.\n",
        "\n",
        "**Make sure that the dimension of your matrix is correct! Really important!**"
      ]
    },
    {
      "cell_type": "markdown",
      "metadata": {
        "id": "rQQEfg0sgUd-"
      },
      "source": [
        "## Build our model\n",
        "\n",
        "In this case it is a linear regression model, but in the future, the model can be really complex (e.g. A neural network model)"
      ]
    },
    {
      "cell_type": "code",
      "metadata": {
        "id": "0TTNWlHcbofF"
      },
      "source": [
        "# define the model\n",
        "def model(x):\n",
        "  return x @ w.t() + b # @ means matrix multiplication"
      ],
      "execution_count": null,
      "outputs": []
    },
    {
      "cell_type": "code",
      "metadata": {
        "colab": {
          "base_uri": "https://localhost:8080/"
        },
        "id": "EkyB357FctO_",
        "outputId": "655b935f-cbb0-4b7f-ebc3-8f81dc736deb"
      },
      "source": [
        "# predictions of our model \n",
        "preds = model(inputs_torch)\n",
        "print(preds) # really, really bad ... right now ..."
      ],
      "execution_count": null,
      "outputs": [
        {
          "output_type": "stream",
          "text": [
            "tensor([[100.3761,  17.6190],\n",
            "        [133.1410,  10.2199],\n",
            "        [ 80.8693, -55.7864],\n",
            "        [156.0216, 105.1184],\n",
            "        [101.3740, -43.1640]])\n"
          ],
          "name": "stdout"
        }
      ]
    },
    {
      "cell_type": "code",
      "metadata": {
        "colab": {
          "base_uri": "https://localhost:8080/"
        },
        "id": "Qm61a70DdXEZ",
        "outputId": "e5dc2910-cadb-4f01-9ed1-10e8ffa8add1"
      },
      "source": [
        "print(targets_torch)"
      ],
      "execution_count": null,
      "outputs": [
        {
          "output_type": "stream",
          "text": [
            "tensor([[ 56.,  70.],\n",
            "        [ 81., 101.],\n",
            "        [119., 133.],\n",
            "        [ 22.,  37.],\n",
            "        [103., 119.]])\n"
          ],
          "name": "stdout"
        }
      ]
    },
    {
      "cell_type": "markdown",
      "metadata": {
        "id": "TvibYOtWgd9o"
      },
      "source": [
        "## Calculate the loss function"
      ]
    },
    {
      "cell_type": "markdown",
      "metadata": {
        "id": "xrWFiEpMfRLz"
      },
      "source": [
        "The **mean-square error** can be defined as:\n",
        "\n",
        "$$mse=\\frac{1}{N}\\sum_{i=1}^N(t_1^i-t_2^i)^2$$"
      ]
    },
    {
      "cell_type": "code",
      "metadata": {
        "id": "LXxoXuF9ee2z"
      },
      "source": [
        "# define the mean-square error\n",
        "def mse(t1, t2):\n",
        "  diff = t1 - t2\n",
        "  return torch.sum(diff*diff)/diff.numel() # diff*diff: element-wise multiplication; diff.numel() number of elements in diff"
      ],
      "execution_count": null,
      "outputs": []
    },
    {
      "cell_type": "markdown",
      "metadata": {
        "id": "7jAhXRlegps-"
      },
      "source": [
        "## Calculate the gradient --> Gradient Descent"
      ]
    },
    {
      "cell_type": "code",
      "metadata": {
        "id": "3K0Olkrjg2N7"
      },
      "source": [
        "w = torch.randn(2, 3, requires_grad=True)\n",
        "b = torch.randn(1, 2, requires_grad=True)\n",
        "threshold = 10\n",
        "lr = 1e-5 # learning_rate\n",
        "ind = 0 #\n",
        "preds = model(inputs_torch)\n",
        "loss = mse(preds, targets_torch)\n",
        "print(loss)\n",
        "while loss > threshold:\n",
        "    new_preds = model(inputs_torch)\n",
        "    loss = mse(new_preds, targets_torch)\n",
        "    loss.backward()\n",
        "    with torch.no_grad():\n",
        "        w -= lr * w.grad\n",
        "        b -= lr * b.grad\n",
        "        w.grad.zero_()\n",
        "        b.grad.zero_()\n",
        "    ind += 1\n",
        "    print('Epoch {} ... loss = {}'.format(ind, loss))"
      ],
      "execution_count": null,
      "outputs": []
    },
    {
      "cell_type": "code",
      "metadata": {
        "colab": {
          "base_uri": "https://localhost:8080/"
        },
        "id": "xjdbNE2bwrDn",
        "outputId": "78db523d-f6f9-49b5-90c3-078606f27ad1"
      },
      "source": [
        "preds = model(inputs_torch)\n",
        "print(preds)\n",
        "print(targets_torch)"
      ],
      "execution_count": null,
      "outputs": [
        {
          "output_type": "stream",
          "text": [
            "tensor([[ 58.2112,  69.5565],\n",
            "        [ 81.6339, 100.3739],\n",
            "        [118.3174, 134.8474],\n",
            "        [ 26.1825,  31.0243],\n",
            "        [ 98.1191, 122.4509]], grad_fn=<AddBackward0>)\n",
            "tensor([[ 56.,  70.],\n",
            "        [ 81., 101.],\n",
            "        [119., 133.],\n",
            "        [ 22.,  37.],\n",
            "        [103., 119.]])\n"
          ],
          "name": "stdout"
        }
      ]
    },
    {
      "cell_type": "markdown",
      "metadata": {
        "id": "86DqZcj8v-nf"
      },
      "source": [
        "In here I need to say: in pytorch, `a = a - 1` is not the same as `a -= 1`.\n",
        "\n",
        "* `a = a - 1` means first we evaluate `a-1`, then we create another tensor `a`, which has different reference number \n",
        "\n",
        "* `a -= 1` means we only evaluate `a-1`, but the reference for `a` is the same."
      ]
    },
    {
      "cell_type": "code",
      "metadata": {
        "colab": {
          "base_uri": "https://localhost:8080/"
        },
        "id": "mHp4QPwKtRlG",
        "outputId": "63eabb25-03c9-4a3b-cf9d-846599f4bfd0"
      },
      "source": [
        "a = torch.tensor([1, 2])\n",
        "print('original id = {}'.format(id(a)))\n",
        "b = torch.tensor([2, 2])\n",
        "a -= b\n",
        "print('After a = a - b, id = {}'.format(id(a)))"
      ],
      "execution_count": null,
      "outputs": [
        {
          "output_type": "stream",
          "text": [
            "original id = 139940533485432\n",
            "After a = a - b, id = 139940533485432\n"
          ],
          "name": "stdout"
        }
      ]
    },
    {
      "cell_type": "markdown",
      "metadata": {
        "id": "dl3KGIFMx5AT"
      },
      "source": [
        "## Use pytorch built-in function"
      ]
    },
    {
      "cell_type": "code",
      "metadata": {
        "id": "8mMzf5S3yVeb"
      },
      "source": [
        "import torch.nn as nn \n",
        "# nn means neural network"
      ],
      "execution_count": null,
      "outputs": []
    },
    {
      "cell_type": "code",
      "metadata": {
        "id": "gWEuui7ax4Ky"
      },
      "source": [
        "# Input (temp, rainfall, humidity)\n",
        "inputs = np.array([[73, 67, 43], \n",
        "                   [91, 88, 64], \n",
        "                   [87, 134, 58], \n",
        "                   [102, 43, 37], \n",
        "                   [69, 96, 70], \n",
        "                   [74, 66, 43], \n",
        "                   [91, 87, 65], \n",
        "                   [88, 134, 59], \n",
        "                   [101, 44, 37], \n",
        "                   [68, 96, 71], \n",
        "                   [73, 66, 44], \n",
        "                   [92, 87, 64], \n",
        "                   [87, 135, 57], \n",
        "                   [103, 43, 36], \n",
        "                   [68, 97, 70]], \n",
        "                  dtype='float32')\n",
        "\n",
        "# Targets (apples, oranges)\n",
        "targets = np.array([[56, 70], \n",
        "                    [81, 101], \n",
        "                    [119, 133], \n",
        "                    [22, 37], \n",
        "                    [103, 119],\n",
        "                    [57, 69], \n",
        "                    [80, 102], \n",
        "                    [118, 132], \n",
        "                    [21, 38], \n",
        "                    [104, 118], \n",
        "                    [57, 69], \n",
        "                    [82, 100], \n",
        "                    [118, 134], \n",
        "                    [20, 38], \n",
        "                    [102, 120]], \n",
        "                   dtype='float32')\n",
        "\n",
        "inputs = torch.from_numpy(inputs)\n",
        "targets = torch.from_numpy(targets)"
      ],
      "execution_count": null,
      "outputs": []
    },
    {
      "cell_type": "code",
      "metadata": {
        "id": "NNZF152btyOG"
      },
      "source": [
        "# dataset and dataloader (batching)\n",
        "\n",
        "from torch.utils.data import TensorDataset\n",
        "\n",
        "# define our dataset \n",
        "train_ds = TensorDataset(inputs, targets)\n",
        "\n",
        "# dataloader\n",
        "from torch.utils.data import DataLoader\n",
        "\n",
        "# define batch size \n",
        "batch_size = 10\n",
        "train_dl = DataLoader(train_ds, batch_size, shuffle=True)"
      ],
      "execution_count": null,
      "outputs": []
    },
    {
      "cell_type": "code",
      "metadata": {
        "colab": {
          "base_uri": "https://localhost:8080/"
        },
        "id": "ufkn4nQ0yyzV",
        "outputId": "b362add0-cf08-46fb-f26f-15a67cd25641"
      },
      "source": [
        "# look at 1 batch\n",
        "for xb, yb in train_dl:\n",
        "    print(xb)\n",
        "    print(yb)\n",
        "    break"
      ],
      "execution_count": null,
      "outputs": [
        {
          "output_type": "stream",
          "text": [
            "tensor([[ 87., 134.,  58.],\n",
            "        [ 73.,  67.,  43.],\n",
            "        [ 73.,  66.,  44.],\n",
            "        [101.,  44.,  37.],\n",
            "        [ 91.,  87.,  65.],\n",
            "        [103.,  43.,  36.],\n",
            "        [ 87., 135.,  57.],\n",
            "        [ 68.,  96.,  71.],\n",
            "        [ 74.,  66.,  43.],\n",
            "        [ 69.,  96.,  70.]])\n",
            "tensor([[119., 133.],\n",
            "        [ 56.,  70.],\n",
            "        [ 57.,  69.],\n",
            "        [ 21.,  38.],\n",
            "        [ 80., 102.],\n",
            "        [ 20.,  38.],\n",
            "        [118., 134.],\n",
            "        [104., 118.],\n",
            "        [ 57.,  69.],\n",
            "        [103., 119.]])\n"
          ],
          "name": "stdout"
        }
      ]
    },
    {
      "cell_type": "code",
      "metadata": {
        "colab": {
          "base_uri": "https://localhost:8080/"
        },
        "id": "nf_iaTAVzSBi",
        "outputId": "819e0627-0363-4a89-c1f8-06b5d5620bde"
      },
      "source": [
        "# define model\n",
        "model = nn.Linear(3, 2) # 3 is the number of your features, 2 is the number of your outputs\n",
        "print(model.weight)\n",
        "print(model.bias)"
      ],
      "execution_count": null,
      "outputs": [
        {
          "output_type": "stream",
          "text": [
            "Parameter containing:\n",
            "tensor([[-0.0298,  0.4024, -0.1152],\n",
            "        [ 0.5231, -0.2843, -0.1735]], requires_grad=True)\n",
            "Parameter containing:\n",
            "tensor([0.1466, 0.4071], requires_grad=True)\n"
          ],
          "name": "stdout"
        }
      ]
    },
    {
      "cell_type": "code",
      "metadata": {
        "colab": {
          "base_uri": "https://localhost:8080/"
        },
        "id": "xnN3msG6zouY",
        "outputId": "13b35dc9-d295-4873-850c-028cd9542ce2"
      },
      "source": [
        "list(model.parameters())"
      ],
      "execution_count": null,
      "outputs": [
        {
          "output_type": "execute_result",
          "data": {
            "text/plain": [
              "[Parameter containing:\n",
              " tensor([[-0.0298,  0.4024, -0.1152],\n",
              "         [ 0.5231, -0.2843, -0.1735]], requires_grad=True),\n",
              " Parameter containing:\n",
              " tensor([0.1466, 0.4071], requires_grad=True)]"
            ]
          },
          "metadata": {
            "tags": []
          },
          "execution_count": 230
        }
      ]
    },
    {
      "cell_type": "code",
      "metadata": {
        "colab": {
          "base_uri": "https://localhost:8080/"
        },
        "id": "Lf4IrLNszs1H",
        "outputId": "40a8a6cf-80e6-4bf8-9266-b640efe205d4"
      },
      "source": [
        "# make predictions\n",
        "preds = model(inputs_torch)\n",
        "print(preds)"
      ],
      "execution_count": null,
      "outputs": [
        {
          "output_type": "stream",
          "text": [
            "tensor([[19.9765, 12.0850],\n",
            "        [25.4707, 11.8874],\n",
            "        [44.7912, -2.2405],\n",
            "        [10.1458, 35.1170],\n",
            "        [28.6545, -2.9349]], grad_fn=<AddmmBackward>)\n"
          ],
          "name": "stdout"
        }
      ]
    },
    {
      "cell_type": "code",
      "metadata": {
        "colab": {
          "base_uri": "https://localhost:8080/"
        },
        "id": "33klDScoz3pA",
        "outputId": "b9fd4d48-6e47-4b80-ac67-cb840b92e425"
      },
      "source": [
        "# define loss function \n",
        "import torch.nn.functional as F\n",
        "\n",
        "loss_fn = F.mse_loss\n",
        "\n",
        "loss = loss_fn(model(inputs_torch), targets_torch)\n",
        "print(loss)"
      ],
      "execution_count": null,
      "outputs": [
        {
          "output_type": "stream",
          "text": [
            "tensor(6001.2764, grad_fn=<MseLossBackward>)\n"
          ],
          "name": "stdout"
        }
      ]
    },
    {
      "cell_type": "code",
      "metadata": {
        "id": "uN4358eD0YqZ"
      },
      "source": [
        "# define optimizer\n",
        "opt = torch.optim.SGD(model.parameters(), lr=1e-5) # lr means learning-rate"
      ],
      "execution_count": null,
      "outputs": []
    },
    {
      "cell_type": "code",
      "metadata": {
        "id": "WfUBSI5Z0mpN"
      },
      "source": [
        "# train the model\n",
        "# utility function to train the model \n",
        "def fit(num_epochs, train_dl, model, loss_fn, opt):\n",
        "    for epoch in range(num_epochs):\n",
        "        for xb, yb in train_dl:\n",
        "            # 1. Generate prediction\n",
        "            preds = model(xb)\n",
        "\n",
        "            # 2. Calculate the loss \n",
        "            loss = loss_fn(preds, yb)\n",
        "\n",
        "            # 3. Compute gradients \n",
        "            loss.backward()\n",
        "\n",
        "            # 4. Update parameters using gradients\n",
        "            opt.step()\n",
        "\n",
        "            # 5. Reset the gradients to zero \n",
        "            opt.zero_grad() \n",
        "\n",
        "        if (epoch+1)%10 == 0:\n",
        "            print('Epoch [{}/{}], Loss: {:.4f}'.format(epoch+1, num_epochs, loss))\n",
        "             "
      ],
      "execution_count": null,
      "outputs": []
    },
    {
      "cell_type": "code",
      "metadata": {
        "colab": {
          "base_uri": "https://localhost:8080/"
        },
        "id": "dnrG4wQU1lEq",
        "outputId": "44279dd6-f7d6-4f43-bc34-98b303ea503a"
      },
      "source": [
        "fit(100, train_dl, model, loss_fn, opt)"
      ],
      "execution_count": null,
      "outputs": [
        {
          "output_type": "stream",
          "text": [
            "Epoch [10/100], Loss: 42.0496\n",
            "Epoch [20/100], Loss: 44.0107\n",
            "Epoch [30/100], Loss: 80.4472\n",
            "Epoch [40/100], Loss: 71.6844\n",
            "Epoch [50/100], Loss: 45.9663\n",
            "Epoch [60/100], Loss: 40.9093\n",
            "Epoch [70/100], Loss: 49.8164\n",
            "Epoch [80/100], Loss: 39.4097\n",
            "Epoch [90/100], Loss: 34.3259\n",
            "Epoch [100/100], Loss: 18.9639\n"
          ],
          "name": "stdout"
        }
      ]
    },
    {
      "cell_type": "code",
      "metadata": {
        "colab": {
          "base_uri": "https://localhost:8080/"
        },
        "id": "oYxaRa1K1pzX",
        "outputId": "7ae7649b-c5d8-431b-f912-eeb6051918f4"
      },
      "source": [
        "preds = model(inputs)\n",
        "print(preds)\n",
        "print(targets)"
      ],
      "execution_count": null,
      "outputs": [
        {
          "output_type": "stream",
          "text": [
            "tensor([[ 57.6456,  71.5131],\n",
            "        [ 79.2267,  97.5071],\n",
            "        [123.2662, 137.0268],\n",
            "        [ 24.5356,  44.1636],\n",
            "        [ 94.8529, 109.6299],\n",
            "        [ 56.3971,  70.5016],\n",
            "        [ 78.5486,  97.0258],\n",
            "        [123.2827, 137.3443],\n",
            "        [ 25.7841,  45.1751],\n",
            "        [ 95.4234, 110.1600],\n",
            "        [ 56.9675,  71.0317],\n",
            "        [ 77.9782,  96.4957],\n",
            "        [123.9443, 137.5082],\n",
            "        [ 23.9652,  43.6335],\n",
            "        [ 96.1015, 110.6414]], grad_fn=<AddmmBackward>)\n",
            "tensor([[ 56.,  70.],\n",
            "        [ 81., 101.],\n",
            "        [119., 133.],\n",
            "        [ 22.,  37.],\n",
            "        [103., 119.],\n",
            "        [ 57.,  69.],\n",
            "        [ 80., 102.],\n",
            "        [118., 132.],\n",
            "        [ 21.,  38.],\n",
            "        [104., 118.],\n",
            "        [ 57.,  69.],\n",
            "        [ 82., 100.],\n",
            "        [118., 134.],\n",
            "        [ 20.,  38.],\n",
            "        [102., 120.]])\n"
          ],
          "name": "stdout"
        }
      ]
    },
    {
      "cell_type": "markdown",
      "metadata": {
        "id": "p0VGN5gI2kew"
      },
      "source": [
        "## Summary\n",
        "\n",
        "So in order to make a machine learning model, we need:\n",
        "\n",
        "* Number of Epochs\n",
        "* Training Data (features + targets)\n",
        "* Testing Data\n",
        "* Model\n",
        "* Loss function\n",
        "* Optimizer\n",
        "\n",
        "In this example, we can put each statement in the following:\n",
        "\n",
        "* Number of Epochs\n",
        "    ``` python\n",
        "    num_epochs = 100\n",
        "    ```\n",
        "* Training Data (features + targets)\n",
        "    ``` python\n",
        "    # Input (temp, rainfall, humidity)\n",
        "    inputs = np.array([[73, 67, 43], \n",
        "                    [91, 88, 64], \n",
        "                    [87, 134, 58], \n",
        "                    [102, 43, 37], \n",
        "                    [69, 96, 70], \n",
        "                    [74, 66, 43], \n",
        "                    [91, 87, 65], \n",
        "                    [88, 134, 59], \n",
        "                    [101, 44, 37], \n",
        "                    [68, 96, 71], \n",
        "                    [73, 66, 44], \n",
        "                    [92, 87, 64], \n",
        "                    [87, 135, 57], \n",
        "                    [103, 43, 36], \n",
        "                    [68, 97, 70]], \n",
        "                    dtype='float32')\n",
        "\n",
        "    # Targets (apples, oranges)\n",
        "    targets = np.array([[56, 70], \n",
        "                        [81, 101], \n",
        "                        [119, 133], \n",
        "                        [22, 37], \n",
        "                        [103, 119],\n",
        "                        [57, 69], \n",
        "                        [80, 102], \n",
        "                        [118, 132], \n",
        "                        [21, 38], \n",
        "                        [104, 118], \n",
        "                        [57, 69], \n",
        "                        [82, 100], \n",
        "                        [118, 134], \n",
        "                        [20, 38], \n",
        "                        [102, 120]], \n",
        "                    dtype='float32')\n",
        "\n",
        "    inputs = torch.from_numpy(inputs)\n",
        "    targets = torch.from_numpy(targets)\n",
        "\n",
        "    # dataset and dataloader (batching)\n",
        "\n",
        "    from torch.utils.data import TensorDataset\n",
        "\n",
        "    # define our dataset \n",
        "    train_ds = TensorDataset(inputs, targets)\n",
        "\n",
        "    # dataloader\n",
        "    from torch.utils.data import DataLoader\n",
        "\n",
        "    # define batch size \n",
        "    batch_size = 10\n",
        "    train_dl = DataLoader(train_ds, batch_size, shuffle=True)\n",
        "    ```\n",
        "* Testing Data\n",
        "* Model\n",
        "\n",
        "    ``` python\n",
        "    import torch.nn as nn\n",
        "    # define model\n",
        "    model = nn.Linear(3, 2) # 3 is the number of your features, 2 is the number of your outputs\n",
        "    print(model.weight)\n",
        "    print(model.bias)\n",
        "    ```\n",
        "* Loss function\n",
        "\n",
        "    ``` python\n",
        "    # define loss function \n",
        "    import torch.nn.functional as F\n",
        "\n",
        "    loss_fn = F.mse_loss\n",
        "\n",
        "    loss = loss_fn(model(inputs_torch), targets_torch)\n",
        "    ```\n",
        "\n",
        "* Optimizer\n",
        "    ``` python\n",
        "    # define optimizer\n",
        "    opt = torch.optim.SGD(model.parameters(), lr=1e-5) # lr means learning-rate\n",
        "    ```\n",
        "\n",
        "We can write a general training model `fit()`:\n",
        "\n",
        "``` python\n",
        "# train the model\n",
        "# utility function to train the model \n",
        "def fit(num_epochs, train_dl, model, loss_fn, opt):\n",
        "    for epoch in range(num_epochs):\n",
        "        for xb, yb in train_dl:\n",
        "            # 1. Generate prediction\n",
        "            preds = model(xb)\n",
        "\n",
        "            # 2. Calculate the loss \n",
        "            loss = loss_fn(preds, yb)\n",
        "\n",
        "            # 3. Compute gradients \n",
        "            loss.backward()\n",
        "\n",
        "            # 4. Update parameters using gradients\n",
        "            opt.step()\n",
        "\n",
        "            # 5. Reset the gradients to zero \n",
        "            opt.zero_grad() \n",
        "\n",
        "        if (epoch+1)%10 == 0:\n",
        "            print('Epoch [{}/{}], Loss: {:.4f}'.format(epoch+1, num_epochs, loss))\n",
        "```\n",
        "\n",
        "Once we have the `num_epochs`, `train_dl`, `model`, `loss_fn` and `opt`, then we can start training out machine learning model."
      ]
    },
    {
      "cell_type": "code",
      "metadata": {
        "id": "jkAnKS6l2RiI"
      },
      "source": [
        ""
      ],
      "execution_count": null,
      "outputs": []
    },
    {
      "cell_type": "markdown",
      "metadata": {
        "id": "DvqEii4RMP2A"
      },
      "source": [
        "# Image Classification and logistic regression"
      ]
    },
    {
      "cell_type": "code",
      "metadata": {
        "id": "mQcFtI59MUKd"
      },
      "source": [
        "import torch\n",
        "import torchvision\n",
        "from torchvision.datasets import MNIST\n",
        "import numpy as np"
      ],
      "execution_count": null,
      "outputs": []
    },
    {
      "cell_type": "code",
      "metadata": {
        "colab": {
          "base_uri": "https://localhost:8080/",
          "height": 369,
          "referenced_widgets": [
            "cb89f9a31ae44499b0df88a3b3c68e2a",
            "48b29aa7f46d4880905b1322f8f3464e",
            "719c41ff93da45ce891d1afc4d3afb0c",
            "ff3b4eb8898846e18cabc292dd88ed36",
            "382531ed5c2e41e9b7482255c0521eca",
            "d502205babce4eedaea93125211a7c80",
            "254b6227ba1744fbad02a5477604e7d0",
            "b4148409fc884321ba79860404e2f413",
            "4d422f2eeca44b7db1b87824c6e00a6e",
            "00d966aa731647dcbe44645cbfd87127",
            "59fa9cab30864f1584dd446acb35f426",
            "039ba7cb38f54b62a0ed7e8038956156",
            "c5e3a2ffe3db4408bcc7db4c79b321a7",
            "05c9ae7ac79f4423821f951a7170abed",
            "18300deb0b194fe49490cac01e76582a",
            "b5838b7d8ab248b1bc42059825fd4618",
            "f41acec98fc048c98c3c91ab27550e84",
            "b566e37fbc6843aeb56305886ad75ead",
            "c7f09f44ee8c481daf9e1a3cc36592a1",
            "9166a77aeb394d6d985ccf4e288957b4",
            "c9b3d91d57b44dc3813abe5d766152b5",
            "c538f6f4fe9148c78236985bcd951d07",
            "2f81404e566849bc884abf99733e44a0",
            "1d53207a1d114dcca9593389d935d1ea",
            "65b15c4498764ea3aac9c4eba9426664",
            "7a3ad38d6ecf41738e00079b50936184",
            "d5d5b96036ea4dba8dcdeb1ce2de408d",
            "c803f1da3e864e9287e0538eb902e6fd",
            "20f6cd45eb3b4d7e9a82c5b0b149f957",
            "a5dcab5725ea439082c5bba7eeef0d4c",
            "9b3a4d0d87644189ab9f0f5607897038",
            "516b692078ec4c02ac3c42ff83d3abdf"
          ]
        },
        "id": "-TukuD79NEvA",
        "outputId": "0d15874a-6f4c-471f-8880-feb82daed228"
      },
      "source": [
        "# Download training dataset\n",
        "dataset = MNIST(root='data/', download=True)"
      ],
      "execution_count": null,
      "outputs": [
        {
          "output_type": "stream",
          "text": [
            "Downloading http://yann.lecun.com/exdb/mnist/train-images-idx3-ubyte.gz to data/MNIST/raw/train-images-idx3-ubyte.gz\n"
          ],
          "name": "stdout"
        },
        {
          "output_type": "display_data",
          "data": {
            "application/vnd.jupyter.widget-view+json": {
              "model_id": "cb89f9a31ae44499b0df88a3b3c68e2a",
              "version_minor": 0,
              "version_major": 2
            },
            "text/plain": [
              "HBox(children=(FloatProgress(value=1.0, bar_style='info', max=1.0), HTML(value='')))"
            ]
          },
          "metadata": {
            "tags": []
          }
        },
        {
          "output_type": "stream",
          "text": [
            "Extracting data/MNIST/raw/train-images-idx3-ubyte.gz to data/MNIST/raw\n",
            "Downloading http://yann.lecun.com/exdb/mnist/train-labels-idx1-ubyte.gz to data/MNIST/raw/train-labels-idx1-ubyte.gz\n"
          ],
          "name": "stdout"
        },
        {
          "output_type": "display_data",
          "data": {
            "application/vnd.jupyter.widget-view+json": {
              "model_id": "4d422f2eeca44b7db1b87824c6e00a6e",
              "version_minor": 0,
              "version_major": 2
            },
            "text/plain": [
              "HBox(children=(FloatProgress(value=1.0, bar_style='info', max=1.0), HTML(value='')))"
            ]
          },
          "metadata": {
            "tags": []
          }
        },
        {
          "output_type": "stream",
          "text": [
            "Extracting data/MNIST/raw/train-labels-idx1-ubyte.gz to data/MNIST/raw\n",
            "Downloading http://yann.lecun.com/exdb/mnist/t10k-images-idx3-ubyte.gz to data/MNIST/raw/t10k-images-idx3-ubyte.gz\n"
          ],
          "name": "stdout"
        },
        {
          "output_type": "display_data",
          "data": {
            "application/vnd.jupyter.widget-view+json": {
              "model_id": "f41acec98fc048c98c3c91ab27550e84",
              "version_minor": 0,
              "version_major": 2
            },
            "text/plain": [
              "HBox(children=(FloatProgress(value=1.0, bar_style='info', max=1.0), HTML(value='')))"
            ]
          },
          "metadata": {
            "tags": []
          }
        },
        {
          "output_type": "stream",
          "text": [
            "Extracting data/MNIST/raw/t10k-images-idx3-ubyte.gz to data/MNIST/raw\n",
            "Downloading http://yann.lecun.com/exdb/mnist/t10k-labels-idx1-ubyte.gz to data/MNIST/raw/t10k-labels-idx1-ubyte.gz\n"
          ],
          "name": "stdout"
        },
        {
          "output_type": "display_data",
          "data": {
            "application/vnd.jupyter.widget-view+json": {
              "model_id": "65b15c4498764ea3aac9c4eba9426664",
              "version_minor": 0,
              "version_major": 2
            },
            "text/plain": [
              "HBox(children=(FloatProgress(value=1.0, bar_style='info', max=1.0), HTML(value='')))"
            ]
          },
          "metadata": {
            "tags": []
          }
        },
        {
          "output_type": "stream",
          "text": [
            "Extracting data/MNIST/raw/t10k-labels-idx1-ubyte.gz to data/MNIST/raw\n",
            "Processing...\n",
            "Done!\n"
          ],
          "name": "stdout"
        },
        {
          "output_type": "stream",
          "text": [
            "/usr/local/lib/python3.6/dist-packages/torchvision/datasets/mnist.py:480: UserWarning: The given NumPy array is not writeable, and PyTorch does not support non-writeable tensors. This means you can write to the underlying (supposedly non-writeable) NumPy array using the tensor. You may want to copy the array to protect its data or make it writeable before converting it to a tensor. This type of warning will be suppressed for the rest of this program. (Triggered internally at  /pytorch/torch/csrc/utils/tensor_numpy.cpp:141.)\n",
            "  return torch.from_numpy(parsed.astype(m[2], copy=False)).view(*s)\n"
          ],
          "name": "stderr"
        }
      ]
    },
    {
      "cell_type": "code",
      "metadata": {
        "colab": {
          "base_uri": "https://localhost:8080/"
        },
        "id": "1hN_1OqZNNLr",
        "outputId": "54738738-9e9e-4142-9f5a-b71ba9d4b75f"
      },
      "source": [
        "len(dataset)"
      ],
      "execution_count": null,
      "outputs": [
        {
          "output_type": "execute_result",
          "data": {
            "text/plain": [
              "60000"
            ]
          },
          "metadata": {
            "tags": []
          },
          "execution_count": 3
        }
      ]
    },
    {
      "cell_type": "code",
      "metadata": {
        "colab": {
          "base_uri": "https://localhost:8080/"
        },
        "id": "0t2-Re4ZNU88",
        "outputId": "0b0996f7-9737-4187-cbbc-1db2b2d9099c"
      },
      "source": [
        "test_dataset = MNIST(root='data/', train=False)\n",
        "len(test_dataset)"
      ],
      "execution_count": null,
      "outputs": [
        {
          "output_type": "execute_result",
          "data": {
            "text/plain": [
              "10000"
            ]
          },
          "metadata": {
            "tags": []
          },
          "execution_count": 4
        }
      ]
    },
    {
      "cell_type": "code",
      "metadata": {
        "colab": {
          "base_uri": "https://localhost:8080/"
        },
        "id": "lL40pcfGNcmD",
        "outputId": "8f65de7e-f59a-467e-9817-e638efb9691a"
      },
      "source": [
        "dataset[0]"
      ],
      "execution_count": null,
      "outputs": [
        {
          "output_type": "execute_result",
          "data": {
            "text/plain": [
              "(<PIL.Image.Image image mode=L size=28x28 at 0x7F3F3340C898>, 5)"
            ]
          },
          "metadata": {
            "tags": []
          },
          "execution_count": 5
        }
      ]
    },
    {
      "cell_type": "code",
      "metadata": {
        "id": "cSmmfTmVNexc"
      },
      "source": [
        "import matplotlib.pyplot as plt\n",
        "%matplotlib inline"
      ],
      "execution_count": null,
      "outputs": []
    },
    {
      "cell_type": "code",
      "metadata": {
        "colab": {
          "base_uri": "https://localhost:8080/",
          "height": 282
        },
        "id": "OUiVETu2NlDE",
        "outputId": "d3eecc8c-1a0a-4bba-e214-bb90509b3447"
      },
      "source": [
        "image, label = dataset[10]\n",
        "plt.imshow(image, cmap='gray')\n",
        "print('Label:', label)"
      ],
      "execution_count": null,
      "outputs": [
        {
          "output_type": "stream",
          "text": [
            "Label: 3\n"
          ],
          "name": "stdout"
        },
        {
          "output_type": "display_data",
          "data": {
            "image/png": "[encoded data removed]",
            "text/plain": [
              "<Figure size 432x288 with 1 Axes>"
            ]
          },
          "metadata": {
            "tags": [],
            "needs_background": "light"
          }
        }
      ]
    },
    {
      "cell_type": "code",
      "metadata": {
        "id": "EmG5b2b_OIDm"
      },
      "source": [
        "# transform the MNIST figure to a tensor\n",
        "import torchvision.transforms as transforms"
      ],
      "execution_count": null,
      "outputs": []
    },
    {
      "cell_type": "code",
      "metadata": {
        "id": "WMnNTzcAPQfc"
      },
      "source": [
        "dataset = MNIST(root='data/', train=True, transform=transforms.ToTensor())"
      ],
      "execution_count": null,
      "outputs": []
    },
    {
      "cell_type": "code",
      "metadata": {
        "colab": {
          "base_uri": "https://localhost:8080/"
        },
        "id": "wl8AlheOPYdb",
        "outputId": "6f2a5055-7572-4c80-a470-16104b6ea3b0"
      },
      "source": [
        "img_tensor, label = dataset[0] \n",
        "print(img_tensor.shape, label)"
      ],
      "execution_count": null,
      "outputs": [
        {
          "output_type": "stream",
          "text": [
            "torch.Size([1, 28, 28]) 5\n"
          ],
          "name": "stdout"
        }
      ]
    },
    {
      "cell_type": "code",
      "metadata": {
        "colab": {
          "base_uri": "https://localhost:8080/"
        },
        "id": "STEhgHFiPguk",
        "outputId": "bdfba2c9-ad17-4f0c-f8ac-e423d84d67ce"
      },
      "source": [
        "print(img_tensor[:, 10:15, 10:15])\n",
        "print(torch.max(img_tensor), torch.min(img_tensor))"
      ],
      "execution_count": null,
      "outputs": [
        {
          "output_type": "stream",
          "text": [
            "tensor([[[0.0039, 0.6039, 0.9922, 0.3529, 0.0000],\n",
            "         [0.0000, 0.5451, 0.9922, 0.7451, 0.0078],\n",
            "         [0.0000, 0.0431, 0.7451, 0.9922, 0.2745],\n",
            "         [0.0000, 0.0000, 0.1373, 0.9451, 0.8824],\n",
            "         [0.0000, 0.0000, 0.0000, 0.3176, 0.9412]]])\n",
            "tensor(1.) tensor(0.)\n"
          ],
          "name": "stdout"
        }
      ]
    },
    {
      "cell_type": "code",
      "metadata": {
        "colab": {
          "base_uri": "https://localhost:8080/",
          "height": 282
        },
        "id": "mVnudde5PpHd",
        "outputId": "8e770c09-8783-4a6b-bea8-01630b927465"
      },
      "source": [
        "plt.imshow(img_tensor[0, 10:15, 10:15], cmap='gray')"
      ],
      "execution_count": null,
      "outputs": [
        {
          "output_type": "execute_result",
          "data": {
            "text/plain": [
              "<matplotlib.image.AxesImage at 0x7f3f2afd4c50>"
            ]
          },
          "metadata": {
            "tags": []
          },
          "execution_count": 27
        },
        {
          "output_type": "display_data",
          "data": {
            "image/png": "[encoded data removed]",
            "text/plain": [
              "<Figure size 432x288 with 1 Axes>"
            ]
          },
          "metadata": {
            "tags": [],
            "needs_background": "light"
          }
        }
      ]
    },
    {
      "cell_type": "code",
      "metadata": {
        "id": "26VjBUZrPzAO"
      },
      "source": [
        "# split the dataset into three parts: (1) training set (2) test set (3) validation set\n",
        "def split_indices(total_num, validation_portion):\n",
        "    validation_num = total_num * validation_portion\n",
        "    index = np.random.permutation(total_num) # get a random permutation\n",
        "    return index[int(validation_num):], index[:int(validation_num)]\n",
        "# [:1] means from 0 to 1; [1:] means from 1 to the end"
      ],
      "execution_count": null,
      "outputs": []
    },
    {
      "cell_type": "code",
      "metadata": {
        "colab": {
          "base_uri": "https://localhost:8080/"
        },
        "id": "HKLbGl5HRGmW",
        "outputId": "e57022d7-7c64-4cd3-b418-49d00a0d4cf1"
      },
      "source": [
        "train_indices, val_indices = split_indices(len(dataset), 0.2)\n",
        "print(len(train_indices), len(val_indices))"
      ],
      "execution_count": null,
      "outputs": [
        {
          "output_type": "stream",
          "text": [
            "48000 12000\n"
          ],
          "name": "stdout"
        }
      ]
    },
    {
      "cell_type": "code",
      "metadata": {
        "id": "zEbKTXzcRcX8"
      },
      "source": [
        "from torch.utils.data.sampler import SubsetRandomSampler\n",
        "from torch.utils.data.dataloader import DataLoader "
      ],
      "execution_count": null,
      "outputs": []
    },
    {
      "cell_type": "code",
      "metadata": {
        "id": "7xuppO8QRpnU"
      },
      "source": [
        "batch_size = 100 \n",
        "\n",
        "# training sampler and data loader\n",
        "train_sampler = SubsetRandomSampler(train_indices)\n",
        "train_loader = DataLoader(dataset, batch_size, sampler=train_sampler)\n",
        "\n",
        "# validation sampler \n",
        "val_sampler = SubsetRandomSampler(val_indices)\n",
        "val_loader = DataLoader(dataset, batch_size, sampler=val_sampler)"
      ],
      "execution_count": null,
      "outputs": []
    },
    {
      "cell_type": "code",
      "metadata": {
        "colab": {
          "base_uri": "https://localhost:8080/"
        },
        "id": "o84yFP-sMEdm",
        "outputId": "1bc1a538-5342-4e1e-c447-885d75417607"
      },
      "source": [
        "# We shall build the linear regression model\n",
        "import torch.nn as nn\n",
        "\n",
        "input_size = 28*28 # input\n",
        "num_classes = 10 # output 0~9\n",
        "\n",
        "model = nn.Linear(input_size, num_classes)\n",
        "\n",
        "# Logistic regression model\n",
        "print(model.weight.shape)\n",
        "print(model.bias.shape)"
      ],
      "execution_count": null,
      "outputs": [
        {
          "output_type": "stream",
          "text": [
            "torch.Size([10, 784])\n",
            "torch.Size([10])\n"
          ],
          "name": "stdout"
        }
      ]
    },
    {
      "cell_type": "code",
      "metadata": {
        "colab": {
          "base_uri": "https://localhost:8080/",
          "height": 460
        },
        "id": "6JQOfQqWNUaF",
        "outputId": "fc555fd1-c7e7-4589-d9e2-e58fd248af29"
      },
      "source": [
        "for images, labels in train_loader:\n",
        "    print(labels)\n",
        "    print(images.shape)\n",
        "    outputs = model(images)\n",
        "    break"
      ],
      "execution_count": null,
      "outputs": [
        {
          "output_type": "stream",
          "text": [
            "tensor([2, 4, 6, 3, 3, 2, 4, 6, 6, 9, 2, 8, 0, 8, 4, 1, 2, 5, 0, 7, 3, 5, 7, 4,\n",
            "        7, 4, 6, 6, 7, 6, 9, 8, 7, 9, 4, 2, 8, 2, 3, 8, 4, 0, 0, 1, 9, 1, 2, 0,\n",
            "        0, 4, 3, 9, 9, 0, 9, 9, 3, 8, 1, 2, 5, 6, 8, 3, 0, 4, 3, 2, 9, 5, 7, 2,\n",
            "        0, 6, 9, 6, 1, 7, 4, 5, 8, 7, 3, 1, 1, 0, 9, 6, 9, 5, 5, 0, 3, 7, 5, 2,\n",
            "        8, 0, 7, 1])\n",
            "torch.Size([100, 1, 28, 28])\n"
          ],
          "name": "stdout"
        },
        {
          "output_type": "error",
          "ename": "RuntimeError",
          "evalue": "ignored",
          "traceback": [
            "\u001b[0;31m---------------------------------------------------------------------------\u001b[0m",
            "\u001b[0;31mRuntimeError\u001b[0m                              Traceback (most recent call last)",
            "\u001b[0;32m<ipython-input-58-72eddc737460>\u001b[0m in \u001b[0;36m<module>\u001b[0;34m()\u001b[0m\n\u001b[1;32m      2\u001b[0m     \u001b[0mprint\u001b[0m\u001b[0;34m(\u001b[0m\u001b[0mlabels\u001b[0m\u001b[0;34m)\u001b[0m\u001b[0;34m\u001b[0m\u001b[0;34m\u001b[0m\u001b[0m\n\u001b[1;32m      3\u001b[0m     \u001b[0mprint\u001b[0m\u001b[0;34m(\u001b[0m\u001b[0mimages\u001b[0m\u001b[0;34m.\u001b[0m\u001b[0mshape\u001b[0m\u001b[0;34m)\u001b[0m\u001b[0;34m\u001b[0m\u001b[0;34m\u001b[0m\u001b[0m\n\u001b[0;32m----> 4\u001b[0;31m     \u001b[0moutputs\u001b[0m \u001b[0;34m=\u001b[0m \u001b[0mmodel\u001b[0m\u001b[0;34m(\u001b[0m\u001b[0mimages\u001b[0m\u001b[0;34m)\u001b[0m\u001b[0;34m\u001b[0m\u001b[0;34m\u001b[0m\u001b[0m\n\u001b[0m\u001b[1;32m      5\u001b[0m     \u001b[0;32mbreak\u001b[0m\u001b[0;34m\u001b[0m\u001b[0;34m\u001b[0m\u001b[0m\n",
            "\u001b[0;32m/usr/local/lib/python3.6/dist-packages/torch/nn/modules/module.py\u001b[0m in \u001b[0;36m_call_impl\u001b[0;34m(self, *input, **kwargs)\u001b[0m\n\u001b[1;32m    725\u001b[0m             \u001b[0mresult\u001b[0m \u001b[0;34m=\u001b[0m \u001b[0mself\u001b[0m\u001b[0;34m.\u001b[0m\u001b[0m_slow_forward\u001b[0m\u001b[0;34m(\u001b[0m\u001b[0;34m*\u001b[0m\u001b[0minput\u001b[0m\u001b[0;34m,\u001b[0m \u001b[0;34m**\u001b[0m\u001b[0mkwargs\u001b[0m\u001b[0;34m)\u001b[0m\u001b[0;34m\u001b[0m\u001b[0;34m\u001b[0m\u001b[0m\n\u001b[1;32m    726\u001b[0m         \u001b[0;32melse\u001b[0m\u001b[0;34m:\u001b[0m\u001b[0;34m\u001b[0m\u001b[0;34m\u001b[0m\u001b[0m\n\u001b[0;32m--> 727\u001b[0;31m             \u001b[0mresult\u001b[0m \u001b[0;34m=\u001b[0m \u001b[0mself\u001b[0m\u001b[0;34m.\u001b[0m\u001b[0mforward\u001b[0m\u001b[0;34m(\u001b[0m\u001b[0;34m*\u001b[0m\u001b[0minput\u001b[0m\u001b[0;34m,\u001b[0m \u001b[0;34m**\u001b[0m\u001b[0mkwargs\u001b[0m\u001b[0;34m)\u001b[0m\u001b[0;34m\u001b[0m\u001b[0;34m\u001b[0m\u001b[0m\n\u001b[0m\u001b[1;32m    728\u001b[0m         for hook in itertools.chain(\n\u001b[1;32m    729\u001b[0m                 \u001b[0m_global_forward_hooks\u001b[0m\u001b[0;34m.\u001b[0m\u001b[0mvalues\u001b[0m\u001b[0;34m(\u001b[0m\u001b[0;34m)\u001b[0m\u001b[0;34m,\u001b[0m\u001b[0;34m\u001b[0m\u001b[0;34m\u001b[0m\u001b[0m\n",
            "\u001b[0;32m/usr/local/lib/python3.6/dist-packages/torch/nn/modules/linear.py\u001b[0m in \u001b[0;36mforward\u001b[0;34m(self, input)\u001b[0m\n\u001b[1;32m     91\u001b[0m \u001b[0;34m\u001b[0m\u001b[0m\n\u001b[1;32m     92\u001b[0m     \u001b[0;32mdef\u001b[0m \u001b[0mforward\u001b[0m\u001b[0;34m(\u001b[0m\u001b[0mself\u001b[0m\u001b[0;34m,\u001b[0m \u001b[0minput\u001b[0m\u001b[0;34m:\u001b[0m \u001b[0mTensor\u001b[0m\u001b[0;34m)\u001b[0m \u001b[0;34m->\u001b[0m \u001b[0mTensor\u001b[0m\u001b[0;34m:\u001b[0m\u001b[0;34m\u001b[0m\u001b[0;34m\u001b[0m\u001b[0m\n\u001b[0;32m---> 93\u001b[0;31m         \u001b[0;32mreturn\u001b[0m \u001b[0mF\u001b[0m\u001b[0;34m.\u001b[0m\u001b[0mlinear\u001b[0m\u001b[0;34m(\u001b[0m\u001b[0minput\u001b[0m\u001b[0;34m,\u001b[0m \u001b[0mself\u001b[0m\u001b[0;34m.\u001b[0m\u001b[0mweight\u001b[0m\u001b[0;34m,\u001b[0m \u001b[0mself\u001b[0m\u001b[0;34m.\u001b[0m\u001b[0mbias\u001b[0m\u001b[0;34m)\u001b[0m\u001b[0;34m\u001b[0m\u001b[0;34m\u001b[0m\u001b[0m\n\u001b[0m\u001b[1;32m     94\u001b[0m \u001b[0;34m\u001b[0m\u001b[0m\n\u001b[1;32m     95\u001b[0m     \u001b[0;32mdef\u001b[0m \u001b[0mextra_repr\u001b[0m\u001b[0;34m(\u001b[0m\u001b[0mself\u001b[0m\u001b[0;34m)\u001b[0m \u001b[0;34m->\u001b[0m \u001b[0mstr\u001b[0m\u001b[0;34m:\u001b[0m\u001b[0;34m\u001b[0m\u001b[0;34m\u001b[0m\u001b[0m\n",
            "\u001b[0;32m/usr/local/lib/python3.6/dist-packages/torch/nn/functional.py\u001b[0m in \u001b[0;36mlinear\u001b[0;34m(input, weight, bias)\u001b[0m\n\u001b[1;32m   1690\u001b[0m         \u001b[0mret\u001b[0m \u001b[0;34m=\u001b[0m \u001b[0mtorch\u001b[0m\u001b[0;34m.\u001b[0m\u001b[0maddmm\u001b[0m\u001b[0;34m(\u001b[0m\u001b[0mbias\u001b[0m\u001b[0;34m,\u001b[0m \u001b[0minput\u001b[0m\u001b[0;34m,\u001b[0m \u001b[0mweight\u001b[0m\u001b[0;34m.\u001b[0m\u001b[0mt\u001b[0m\u001b[0;34m(\u001b[0m\u001b[0;34m)\u001b[0m\u001b[0;34m)\u001b[0m\u001b[0;34m\u001b[0m\u001b[0;34m\u001b[0m\u001b[0m\n\u001b[1;32m   1691\u001b[0m     \u001b[0;32melse\u001b[0m\u001b[0;34m:\u001b[0m\u001b[0;34m\u001b[0m\u001b[0;34m\u001b[0m\u001b[0m\n\u001b[0;32m-> 1692\u001b[0;31m         \u001b[0moutput\u001b[0m \u001b[0;34m=\u001b[0m \u001b[0minput\u001b[0m\u001b[0;34m.\u001b[0m\u001b[0mmatmul\u001b[0m\u001b[0;34m(\u001b[0m\u001b[0mweight\u001b[0m\u001b[0;34m.\u001b[0m\u001b[0mt\u001b[0m\u001b[0;34m(\u001b[0m\u001b[0;34m)\u001b[0m\u001b[0;34m)\u001b[0m\u001b[0;34m\u001b[0m\u001b[0;34m\u001b[0m\u001b[0m\n\u001b[0m\u001b[1;32m   1693\u001b[0m         \u001b[0;32mif\u001b[0m \u001b[0mbias\u001b[0m \u001b[0;32mis\u001b[0m \u001b[0;32mnot\u001b[0m \u001b[0;32mNone\u001b[0m\u001b[0;34m:\u001b[0m\u001b[0;34m\u001b[0m\u001b[0;34m\u001b[0m\u001b[0m\n\u001b[1;32m   1694\u001b[0m             \u001b[0moutput\u001b[0m \u001b[0;34m+=\u001b[0m \u001b[0mbias\u001b[0m\u001b[0;34m\u001b[0m\u001b[0;34m\u001b[0m\u001b[0m\n",
            "\u001b[0;31mRuntimeError\u001b[0m: mat1 and mat2 shapes cannot be multiplied (2800x28 and 784x10)"
          ]
        }
      ]
    },
    {
      "cell_type": "code",
      "metadata": {
        "id": "uqrBhdB1NtXd"
      },
      "source": [
        "# This is how you build any complex model in pytorch\n",
        "\n",
        "# flat the array: reshape(-1, 784)\n",
        "class MnistModel(nn.Module):\n",
        "    def __init__(self):\n",
        "        super().__init__() # If you have a parent class, you need this\n",
        "        self.linear = nn.Linear(input_size, num_classes) # now we can combine different models\n",
        "    \n",
        "    def forward(self, xb):\n",
        "        xb = xb.reshape(-1, 784) # -1 can help us deal with any dimensions\n",
        "        out = self.linear(xb)\n",
        "        return out\n",
        "\n",
        "model = MnistModel()"
      ],
      "execution_count": null,
      "outputs": []
    },
    {
      "cell_type": "code",
      "metadata": {
        "colab": {
          "base_uri": "https://localhost:8080/"
        },
        "id": "bX7Wh4DIOlhp",
        "outputId": "dbbcb2f5-7117-4c88-b1ee-14183c15f730"
      },
      "source": [
        "print(model.linear.weight.shape, model.linear.bias.shape)\n",
        "list(model.parameters())"
      ],
      "execution_count": null,
      "outputs": [
        {
          "output_type": "stream",
          "text": [
            "torch.Size([10, 784]) torch.Size([10])\n"
          ],
          "name": "stdout"
        },
        {
          "output_type": "execute_result",
          "data": {
            "text/plain": [
              "[Parameter containing:\n",
              " tensor([[-0.0188, -0.0009, -0.0252,  ..., -0.0073,  0.0111, -0.0120],\n",
              "         [-0.0055, -0.0067,  0.0198,  ..., -0.0048,  0.0184, -0.0320],\n",
              "         [ 0.0290,  0.0023, -0.0033,  ..., -0.0282,  0.0243, -0.0188],\n",
              "         ...,\n",
              "         [-0.0304, -0.0149, -0.0309,  ...,  0.0050, -0.0169, -0.0091],\n",
              "         [ 0.0128, -0.0025, -0.0349,  ..., -0.0281, -0.0261,  0.0330],\n",
              "         [ 0.0246,  0.0051, -0.0341,  ..., -0.0008,  0.0244, -0.0110]],\n",
              "        requires_grad=True), Parameter containing:\n",
              " tensor([ 0.0108,  0.0346,  0.0054,  0.0223,  0.0066,  0.0062, -0.0055, -0.0154,\n",
              "         -0.0183,  0.0238], requires_grad=True)]"
            ]
          },
          "metadata": {
            "tags": []
          },
          "execution_count": 60
        }
      ]
    },
    {
      "cell_type": "code",
      "metadata": {
        "colab": {
          "base_uri": "https://localhost:8080/"
        },
        "id": "WsEPZoh_PvfV",
        "outputId": "f3639da9-c8dc-4f14-8459-3390b9b73379"
      },
      "source": [
        "for images, labels in train_loader:\n",
        "    outputs = model(images)\n",
        "    break\n",
        "\n",
        "print('outputs.shape: ', outputs.shape)\n",
        "print('Sample outputs: \\n', outputs[:2].data)"
      ],
      "execution_count": null,
      "outputs": [
        {
          "output_type": "stream",
          "text": [
            "outputs.shape:  torch.Size([100, 10])\n",
            "Sample outputs: \n",
            " tensor([[-0.1621,  0.0015,  0.0527,  0.1942, -0.0078,  0.2721,  0.1660, -0.2523,\n",
            "         -0.1167,  0.2649],\n",
            "        [ 0.1355, -0.0366, -0.1294,  0.1795,  0.1016,  0.0494,  0.0086,  0.0543,\n",
            "         -0.0868, -0.2678]])\n"
          ],
          "name": "stdout"
        }
      ]
    },
    {
      "cell_type": "markdown",
      "metadata": {
        "id": "8ntLXYpaQbgu"
      },
      "source": [
        "We want the 10 numbers to represent probability, so we need:\n",
        "\n",
        "* all values > 0\n",
        "* all values < 1\n",
        "\n",
        "We can use 'softmax' to convert anything into probability.\n",
        "\n",
        "$$S(y_i)=\\frac{e^{y_i}}{\\sum_je^{y_j}}$$\n",
        "\n",
        "Softmax function can increase the difference between each guess."
      ]
    },
    {
      "cell_type": "code",
      "metadata": {
        "id": "Ai5u6EW5QH-0"
      },
      "source": [
        "# import softmax\n",
        "import torch.nn.functional as F"
      ],
      "execution_count": null,
      "outputs": []
    },
    {
      "cell_type": "code",
      "metadata": {
        "colab": {
          "base_uri": "https://localhost:8080/"
        },
        "id": "oYV45z1HREKx",
        "outputId": "64bf4843-0897-477a-c0fa-cd5d468c5619"
      },
      "source": [
        "probs = F.softmax(outputs, dim=1) # dim=1, reduce the dimension to 1\n",
        "print('Sample probabilities: \\n', probs[:2].data)\n",
        "print('Sum: ', torch.sum(probs[0]).item())"
      ],
      "execution_count": null,
      "outputs": [
        {
          "output_type": "stream",
          "text": [
            "Sample probabilities: \n",
            " tensor([[0.0804, 0.0947, 0.0997, 0.1148, 0.0938, 0.1241, 0.1116, 0.0735, 0.0841,\n",
            "         0.1232],\n",
            "        [0.1135, 0.0956, 0.0871, 0.1186, 0.1097, 0.1041, 0.1000, 0.1047, 0.0909,\n",
            "         0.0758]])\n",
            "Sum:  1.0\n"
          ],
          "name": "stdout"
        }
      ]
    },
    {
      "cell_type": "code",
      "metadata": {
        "colab": {
          "base_uri": "https://localhost:8080/"
        },
        "id": "dT77KT2VRT4v",
        "outputId": "2224194f-51a5-4c77-8151-3a4cc5bc991c"
      },
      "source": [
        "max_probs, preds = torch.max(probs, dim=1)\n",
        "print(preds)\n",
        "print(max_probs)"
      ],
      "execution_count": null,
      "outputs": [
        {
          "output_type": "stream",
          "text": [
            "tensor([5, 3, 5, 5, 5, 5, 4, 5, 9, 1, 9, 5, 5, 3, 4, 5, 3, 4, 3, 6, 9, 1, 1, 5,\n",
            "        5, 4, 3, 1, 9, 9, 5, 5, 6, 8, 5, 0, 5, 5, 5, 5, 5, 5, 5, 5, 5, 4, 6, 3,\n",
            "        3, 5, 4, 5, 5, 5, 8, 5, 3, 5, 1, 5, 5, 9, 1, 6, 1, 3, 3, 3, 5, 5, 5, 3,\n",
            "        5, 1, 3, 5, 1, 8, 1, 1, 0, 3, 5, 5, 5, 5, 3, 1, 3, 6, 5, 4, 1, 3, 5, 5,\n",
            "        6, 1, 5, 5])\n",
            "tensor([0.1241, 0.1186, 0.1334, 0.1212, 0.1391, 0.1151, 0.1291, 0.1364, 0.1238,\n",
            "        0.1218, 0.1522, 0.1233, 0.1188, 0.1216, 0.1191, 0.1259, 0.1468, 0.1117,\n",
            "        0.1333, 0.1197, 0.1336, 0.1131, 0.1287, 0.1464, 0.1455, 0.1206, 0.1223,\n",
            "        0.1379, 0.1214, 0.1218, 0.1152, 0.1447, 0.1225, 0.1271, 0.1483, 0.1130,\n",
            "        0.1131, 0.1599, 0.1268, 0.1381, 0.1315, 0.1351, 0.1334, 0.1334, 0.1434,\n",
            "        0.1264, 0.1263, 0.1214, 0.1367, 0.1306, 0.1242, 0.1355, 0.1291, 0.1368,\n",
            "        0.1221, 0.1652, 0.1266, 0.1342, 0.1388, 0.1364, 0.1565, 0.1159, 0.1200,\n",
            "        0.1314, 0.1120, 0.1263, 0.1259, 0.1230, 0.1564, 0.1402, 0.1263, 0.1189,\n",
            "        0.1594, 0.1220, 0.1355, 0.1264, 0.1282, 0.1166, 0.1245, 0.1341, 0.1339,\n",
            "        0.1175, 0.1421, 0.1291, 0.1136, 0.1175, 0.1249, 0.1167, 0.1316, 0.1239,\n",
            "        0.1325, 0.1190, 0.1250, 0.1125, 0.1239, 0.1166, 0.1348, 0.1298, 0.1370,\n",
            "        0.1133], grad_fn=<MaxBackward0>)\n"
          ],
          "name": "stdout"
        }
      ]
    },
    {
      "cell_type": "code",
      "metadata": {
        "colab": {
          "base_uri": "https://localhost:8080/"
        },
        "id": "xZCt1pP0Rkhz",
        "outputId": "9853e4c3-3df2-404f-d0e3-291e6ca98350"
      },
      "source": [
        "labels"
      ],
      "execution_count": null,
      "outputs": [
        {
          "output_type": "execute_result",
          "data": {
            "text/plain": [
              "tensor([7, 2, 3, 4, 1, 1, 6, 7, 0, 9, 0, 2, 0, 4, 5, 0, 2, 0, 2, 4, 7, 1, 4, 1,\n",
              "        0, 8, 6, 5, 0, 9, 4, 2, 4, 2, 0, 6, 9, 1, 1, 0, 7, 3, 9, 0, 8, 2, 4, 8,\n",
              "        2, 2, 5, 1, 1, 5, 2, 0, 6, 5, 5, 0, 6, 3, 5, 9, 9, 4, 6, 9, 6, 5, 9, 7,\n",
              "        0, 0, 6, 5, 6, 4, 2, 5, 5, 7, 8, 8, 9, 7, 6, 1, 2, 7, 5, 1, 4, 5, 2, 9,\n",
              "        9, 1, 5, 5])"
            ]
          },
          "metadata": {
            "tags": []
          },
          "execution_count": 69
        }
      ]
    },
    {
      "cell_type": "code",
      "metadata": {
        "id": "pRfreNRRRtdg"
      },
      "source": [
        "# Evaluation matrix and loss function\n",
        "def accuracy(l1, l2):\n",
        "    return torch.sum(l1==l2).item() / len(l1)"
      ],
      "execution_count": null,
      "outputs": []
    },
    {
      "cell_type": "code",
      "metadata": {
        "colab": {
          "base_uri": "https://localhost:8080/"
        },
        "id": "cvJwky6zSNKd",
        "outputId": "68492019-572f-4b4c-d115-81b80f43609e"
      },
      "source": [
        "accuracy(preds, labels) # first: 0.11 --> really bad"
      ],
      "execution_count": null,
      "outputs": [
        {
          "output_type": "execute_result",
          "data": {
            "text/plain": [
              "0.11"
            ]
          },
          "metadata": {
            "tags": []
          },
          "execution_count": 72
        }
      ]
    },
    {
      "cell_type": "markdown",
      "metadata": {
        "id": "0SmW8JofTA3E"
      },
      "source": [
        "The loss function we need to use something differentiable, and also reflect the probability of the whole prediction list.\n",
        "\n",
        "We need to use Shannon entropy (or cross entropy):\n",
        "\n",
        "$$D(\\hat{y}, y)=-\\sum_jy_j \\ln(\\hat{y}_j)$$\n",
        "\n",
        "$y_i$ is the label, and $\\hat{y}_i$ is the predicted value.\n",
        "\n"
      ]
    },
    {
      "cell_type": "code",
      "metadata": {
        "colab": {
          "base_uri": "https://localhost:8080/"
        },
        "id": "7n9zsk65SPGb",
        "outputId": "9e61c33c-eba6-49d3-d0c9-09b547372d52"
      },
      "source": [
        "loss_fn = F.cross_entropy\n",
        "loss = loss_fn(outputs, labels)\n",
        "print(loss)"
      ],
      "execution_count": null,
      "outputs": [
        {
          "output_type": "stream",
          "text": [
            "tensor(2.2906, grad_fn=<NllLossBackward>)\n"
          ],
          "name": "stdout"
        }
      ]
    },
    {
      "cell_type": "code",
      "metadata": {
        "id": "jzjTWly3Ulsl"
      },
      "source": [
        "learning_rate = 0.001\n",
        "optimizer = torch.optim.SGD(model.parameters(), lr=learning_rate)\n",
        "\n"
      ],
      "execution_count": null,
      "outputs": []
    },
    {
      "cell_type": "markdown",
      "metadata": {
        "id": "mUe4QTQbqt2p"
      },
      "source": [
        "I would like to write a more complicated class"
      ]
    },
    {
      "cell_type": "code",
      "metadata": {
        "id": "224KTd6xqx4W"
      },
      "source": [
        "import torch\n",
        "import torchvision\n",
        "from torchvision.datasets import MNIST\n",
        "import numpy as np"
      ],
      "execution_count": 13,
      "outputs": []
    },
    {
      "cell_type": "code",
      "metadata": {
        "colab": {
          "base_uri": "https://localhost:8080/",
          "height": 386,
          "referenced_widgets": [
            "017862b313c6458d83d7b79d668e1999",
            "1a59b16acbe04766bfcdb1a173c1a084",
            "5f19e24cb7014ddca739680eb72f9ea3",
            "4cb49be6b41147cbb71e6a0b291ae0b7",
            "103828843e104c239cfc7f224a687391",
            "f28cec460bee427abc9e415c30e677df",
            "c731f6decc4841e9b87e7b033f216bee",
            "953494dc49fc41e9916e29b3b257d73c",
            "4f602f52e00f4d2aa26c7326bd52a1bf",
            "838a6b4cb9dc49048c085df698aa318c",
            "b7bac2942d42413cba2e77a7cf917145",
            "e7d6500cba52435b88b200ea422dccfa",
            "6ce98c79614f4f13b9f99823505d6178",
            "ff3c0beb47124fc8a4b7b011927b2424",
            "a6720b47819d4ebe9777ef0e2bc139eb",
            "35b6abbdf6f34b80b5a5126b79e02d3d",
            "41c45de270b84be98ad75daeafd667b5",
            "5f7c1228d014404db9aa315d8eb380b4",
            "0d5078900ac9492eb0fee665aa95e37a",
            "454480760cd642de8b510859ff9289a4",
            "55c93bd59a684790877c0c28ed5978f9",
            "af93b3ed1a6c4a15b5ba2dfd19d2034c",
            "dd797d356daa47f8b83eac48463aec56",
            "4ad2d6f19169463abcc404122645904b",
            "6340df1aa20d49ee814e8dd854d7b259",
            "84a6eb5aea6f451394ff3f65a1313b24",
            "3353358e503241de99011d870fe3ee86",
            "8305b4a99e684441bac8bcde5bf37d03",
            "b26671dfbaac4a8dbbb40b74b627146b",
            "eb9c5285f2b348fc88f916c7e5e6f2cc",
            "d75d73d2d9a5427cbbcdc06527195ee3",
            "d5a82a993da140f585c004d1698de97d"
          ]
        },
        "id": "N5X3mPEMrFkl",
        "outputId": "c13eee83-a631-48d0-cc49-5e131d8d2013"
      },
      "source": [
        "dataset = MNIST(root='data/', download=True)"
      ],
      "execution_count": 2,
      "outputs": [
        {
          "output_type": "stream",
          "text": [
            "Downloading http://yann.lecun.com/exdb/mnist/train-images-idx3-ubyte.gz to data/MNIST/raw/train-images-idx3-ubyte.gz\n"
          ],
          "name": "stdout"
        },
        {
          "output_type": "display_data",
          "data": {
            "application/vnd.jupyter.widget-view+json": {
              "model_id": "017862b313c6458d83d7b79d668e1999",
              "version_minor": 0,
              "version_major": 2
            },
            "text/plain": [
              "HBox(children=(FloatProgress(value=1.0, bar_style='info', max=1.0), HTML(value='')))"
            ]
          },
          "metadata": {
            "tags": []
          }
        },
        {
          "output_type": "stream",
          "text": [
            "Extracting data/MNIST/raw/train-images-idx3-ubyte.gz to data/MNIST/raw\n",
            "Downloading http://yann.lecun.com/exdb/mnist/train-labels-idx1-ubyte.gz to data/MNIST/raw/train-labels-idx1-ubyte.gz\n"
          ],
          "name": "stdout"
        },
        {
          "output_type": "display_data",
          "data": {
            "application/vnd.jupyter.widget-view+json": {
              "model_id": "4f602f52e00f4d2aa26c7326bd52a1bf",
              "version_minor": 0,
              "version_major": 2
            },
            "text/plain": [
              "HBox(children=(FloatProgress(value=1.0, bar_style='info', max=1.0), HTML(value='')))"
            ]
          },
          "metadata": {
            "tags": []
          }
        },
        {
          "output_type": "stream",
          "text": [
            "Extracting data/MNIST/raw/train-labels-idx1-ubyte.gz to data/MNIST/raw\n",
            "Downloading http://yann.lecun.com/exdb/mnist/t10k-images-idx3-ubyte.gz to data/MNIST/raw/t10k-images-idx3-ubyte.gz\n",
            "\n"
          ],
          "name": "stdout"
        },
        {
          "output_type": "display_data",
          "data": {
            "application/vnd.jupyter.widget-view+json": {
              "model_id": "41c45de270b84be98ad75daeafd667b5",
              "version_minor": 0,
              "version_major": 2
            },
            "text/plain": [
              "HBox(children=(FloatProgress(value=1.0, bar_style='info', max=1.0), HTML(value='')))"
            ]
          },
          "metadata": {
            "tags": []
          }
        },
        {
          "output_type": "stream",
          "text": [
            "Extracting data/MNIST/raw/t10k-images-idx3-ubyte.gz to data/MNIST/raw\n",
            "Downloading http://yann.lecun.com/exdb/mnist/t10k-labels-idx1-ubyte.gz to data/MNIST/raw/t10k-labels-idx1-ubyte.gz\n"
          ],
          "name": "stdout"
        },
        {
          "output_type": "display_data",
          "data": {
            "application/vnd.jupyter.widget-view+json": {
              "model_id": "6340df1aa20d49ee814e8dd854d7b259",
              "version_minor": 0,
              "version_major": 2
            },
            "text/plain": [
              "HBox(children=(FloatProgress(value=1.0, bar_style='info', max=1.0), HTML(value='')))"
            ]
          },
          "metadata": {
            "tags": []
          }
        },
        {
          "output_type": "stream",
          "text": [
            "Extracting data/MNIST/raw/t10k-labels-idx1-ubyte.gz to data/MNIST/raw\n",
            "Processing...\n",
            "Done!\n"
          ],
          "name": "stdout"
        },
        {
          "output_type": "stream",
          "text": [
            "/usr/local/lib/python3.6/dist-packages/torchvision/datasets/mnist.py:480: UserWarning: The given NumPy array is not writeable, and PyTorch does not support non-writeable tensors. This means you can write to the underlying (supposedly non-writeable) NumPy array using the tensor. You may want to copy the array to protect its data or make it writeable before converting it to a tensor. This type of warning will be suppressed for the rest of this program. (Triggered internally at  /pytorch/torch/csrc/utils/tensor_numpy.cpp:141.)\n",
            "  return torch.from_numpy(parsed.astype(m[2], copy=False)).view(*s)\n"
          ],
          "name": "stderr"
        }
      ]
    },
    {
      "cell_type": "code",
      "metadata": {
        "colab": {
          "base_uri": "https://localhost:8080/"
        },
        "id": "NXtQXFNxrQXv",
        "outputId": "d7e5a446-8c00-48ed-86c4-fa36d6c842d8"
      },
      "source": [
        "len(dataset)"
      ],
      "execution_count": 5,
      "outputs": [
        {
          "output_type": "execute_result",
          "data": {
            "text/plain": [
              "60000"
            ]
          },
          "metadata": {
            "tags": []
          },
          "execution_count": 5
        }
      ]
    },
    {
      "cell_type": "code",
      "metadata": {
        "colab": {
          "base_uri": "https://localhost:8080/",
          "height": 282
        },
        "id": "O3p8CoHcrnAh",
        "outputId": "65481fa1-8fed-497c-be12-4530802a8310"
      },
      "source": [
        "import matplotlib.pyplot as plt\n",
        "plt.imshow(test_set[0][0], cmap='gray')"
      ],
      "execution_count": 11,
      "outputs": [
        {
          "output_type": "execute_result",
          "data": {
            "text/plain": [
              "<matplotlib.image.AxesImage at 0x7f0732eee668>"
            ]
          },
          "metadata": {
            "tags": []
          },
          "execution_count": 11
        },
        {
          "output_type": "display_data",
          "data": {
            "image/png": "[encoded data removed]",
            "text/plain": [
              "<Figure size 432x288 with 1 Axes>"
            ]
          },
          "metadata": {
            "tags": [],
            "needs_background": "light"
          }
        }
      ]
    },
    {
      "cell_type": "code",
      "metadata": {
        "id": "aBKLndoSrTDZ"
      },
      "source": [
        "# prepare the test set, training set and validation set\n",
        "\n",
        "# test set\n",
        "test_set = MNIST(root='data/', train=False, transform=transforms.ToTensor())\n",
        "test_image = MNIST(root='data/', train=False)\n",
        "\n",
        "# transform --> we need to transform the image to the tensor (for pytorch to process)\n",
        "import torchvision.transforms as transforms\n",
        "dataset = MNIST(root='data/',\n",
        "                train=True,\n",
        "                transform=transforms.ToTensor())\n",
        "\n",
        "# split the dataset into training set and validation set \n",
        "from torch.utils.data import random_split\n",
        "\n",
        "train_ds, valid_ds = random_split(dataset, [50000, 10000])\n",
        "\n",
        "# train in batch\n",
        "from torch.utils.data import DataLoader \n",
        "\n",
        "batch_size = 128\n",
        "\n",
        "train_loader = DataLoader(train_ds, batch_size, shuffle=True)\n",
        "val_loader = DataLoader(valid_ds, batch_size)"
      ],
      "execution_count": 97,
      "outputs": []
    },
    {
      "cell_type": "code",
      "metadata": {
        "id": "lUyWHKR6sbFD"
      },
      "source": [
        "# Now let's define our model\n",
        "import torch.nn as nn\n",
        "\n",
        "input_size = 28*28\n",
        "num_classes = 10\n",
        "\n",
        "# build a class\n",
        "class MnistModel(nn.Module):\n",
        "    def __init__(self, input_size, num_classes):\n",
        "        super().__init__()\n",
        "        self.linear = nn.Linear(input_size, num_classes)\n",
        "    \n",
        "    def forward(self, xb):\n",
        "        xb = xb.reshape(-1, 784)\n",
        "        out = self.linear(xb)\n",
        "        return out\n",
        "\n",
        "model = MnistModel(input_size=input_size, num_classes=num_classes)"
      ],
      "execution_count": 32,
      "outputs": []
    },
    {
      "cell_type": "markdown",
      "metadata": {
        "id": "eJDBgCCP07SZ"
      },
      "source": [
        ""
      ]
    },
    {
      "cell_type": "code",
      "metadata": {
        "colab": {
          "base_uri": "https://localhost:8080/"
        },
        "id": "n48_xSaKzmCn",
        "outputId": "46868692-b2ae-4f09-ba3f-88320845234f"
      },
      "source": [
        "for images, labels in train_loader:\n",
        "    images = images.reshape(128, 784)\n",
        "    outputs = model(images)\n",
        "    print(outputs[:2])\n",
        "    break"
      ],
      "execution_count": 57,
      "outputs": [
        {
          "output_type": "stream",
          "text": [
            "tensor([[-0.2770,  0.1041,  0.1568,  0.0648,  0.0801, -0.2447,  0.3354,  0.1122,\n",
            "          0.4452,  0.0014],\n",
            "        [ 0.0474, -0.1564,  0.3331, -0.1350,  0.0986, -0.0975, -0.1440,  0.1524,\n",
            "          0.5404, -0.0332]], grad_fn=<SliceBackward>)\n"
          ],
          "name": "stdout"
        }
      ]
    },
    {
      "cell_type": "markdown",
      "metadata": {
        "id": "9X6IJUdQ41uD"
      },
      "source": [
        "**Some procedures in pytorch and machine learning**\n",
        "\n",
        "For each machine learning, we have two classes: (1) Dataset (2) Model\n",
        "\n",
        "In dataset, we have: (1) construct the dataset (2) identify the training, validation and test groups. (3) add & delete datasets\n",
        "\n",
        "In the model, we have: (1) build the model (2) forward (3) backward (optimization) (4) train (5) evaluation"
      ]
    },
    {
      "cell_type": "code",
      "metadata": {
        "colab": {
          "base_uri": "https://localhost:8080/"
        },
        "id": "1nb87J5O23Ed",
        "outputId": "2398f383-8430-47dd-a9ce-48607b74321c"
      },
      "source": [
        "import torch.nn.functional as F\n",
        "\n",
        "probs = F.softmax(outputs, dim=1)\n",
        "max_probs, preds = torch.max(probs, dim=1)\n",
        "print(preds)\n",
        "print(labels)\n",
        "print(max_probs)\n",
        "\n",
        "def accuracy(outputs, labels):\n",
        "    _, preds = torch.max(outputs, dim=1)\n",
        "    return torch.tensor(torch.sum(preds==labels).item()/len(preds))\n",
        "\n",
        "print(accuracy(outputs, labels))"
      ],
      "execution_count": 64,
      "outputs": [
        {
          "output_type": "stream",
          "text": [
            "tensor([8, 8, 6, 8, 6, 8, 6, 6, 8, 6, 8, 6, 2, 8, 2, 2, 2, 6, 6, 2, 8, 7, 2, 1,\n",
            "        2, 3, 6, 6, 6, 6, 2, 8, 8, 8, 6, 2, 6, 8, 8, 5, 6, 9, 1, 6, 2, 8, 8, 8,\n",
            "        2, 1, 8, 8, 1, 6, 8, 2, 4, 8, 2, 2, 6, 8, 8, 6, 2, 8, 6, 6, 8, 8, 8, 6,\n",
            "        2, 8, 6, 2, 4, 2, 6, 6, 8, 2, 2, 8, 6, 8, 6, 6, 8, 1, 8, 8, 8, 2, 2, 6,\n",
            "        6, 8, 8, 8, 2, 8, 5, 2, 6, 2, 8, 6, 2, 6, 2, 6, 1, 8, 6, 6, 6, 8, 8, 8,\n",
            "        8, 2, 8, 6, 1, 6, 8, 5])\n",
            "tensor([2, 4, 0, 4, 2, 9, 2, 9, 9, 1, 7, 1, 8, 4, 7, 5, 4, 9, 6, 9, 3, 7, 3, 2,\n",
            "        7, 7, 1, 5, 1, 2, 3, 3, 3, 0, 1, 6, 1, 9, 5, 7, 6, 3, 4, 3, 8, 5, 0, 8,\n",
            "        9, 0, 0, 8, 6, 2, 5, 3, 9, 3, 9, 4, 8, 4, 2, 0, 7, 8, 2, 8, 8, 4, 4, 5,\n",
            "        3, 5, 5, 7, 4, 9, 6, 1, 4, 7, 2, 7, 4, 2, 1, 0, 9, 6, 8, 3, 7, 3, 4, 2,\n",
            "        1, 3, 4, 8, 7, 4, 1, 9, 0, 5, 2, 1, 6, 7, 7, 1, 6, 8, 2, 5, 5, 8, 0, 8,\n",
            "        5, 9, 3, 7, 2, 4, 0, 7])\n",
            "tensor([0.1412, 0.1575, 0.1267, 0.1233, 0.1238, 0.1260, 0.1207, 0.1411, 0.1260,\n",
            "        0.1361, 0.1189, 0.1297, 0.1377, 0.1612, 0.1317, 0.1349, 0.1544, 0.1205,\n",
            "        0.1410, 0.1330, 0.1444, 0.1151, 0.1191, 0.1189, 0.1247, 0.1300, 0.1314,\n",
            "        0.1265, 0.1312, 0.1436, 0.1355, 0.1609, 0.1237, 0.1580, 0.1438, 0.1231,\n",
            "        0.1155, 0.1337, 0.1333, 0.1239, 0.1533, 0.1303, 0.1403, 0.1319, 0.1421,\n",
            "        0.1231, 0.1313, 0.1223, 0.1214, 0.1162, 0.1622, 0.1572, 0.1415, 0.1573,\n",
            "        0.1438, 0.1269, 0.1147, 0.1494, 0.1236, 0.1463, 0.1370, 0.1510, 0.1300,\n",
            "        0.1464, 0.1465, 0.1294, 0.1231, 0.1387, 0.1518, 0.1300, 0.1269, 0.1472,\n",
            "        0.1470, 0.1479, 0.1361, 0.1271, 0.1124, 0.1560, 0.1315, 0.1189, 0.1243,\n",
            "        0.1355, 0.1230, 0.1204, 0.1393, 0.1220, 0.1165, 0.1369, 0.1309, 0.1195,\n",
            "        0.1668, 0.1503, 0.1437, 0.1160, 0.1222, 0.1685, 0.1292, 0.1327, 0.1257,\n",
            "        0.1592, 0.1300, 0.1300, 0.1364, 0.1268, 0.1322, 0.1266, 0.1400, 0.1266,\n",
            "        0.1126, 0.1298, 0.1447, 0.1336, 0.1212, 0.1412, 0.1628, 0.1238, 0.1398,\n",
            "        0.1744, 0.1443, 0.1356, 0.1321, 0.1447, 0.1487, 0.1175, 0.1321, 0.1328,\n",
            "        0.1263, 0.1313], grad_fn=<MaxBackward0>)\n",
            "tensor(0.1172)\n"
          ],
          "name": "stdout"
        }
      ]
    },
    {
      "cell_type": "code",
      "metadata": {
        "colab": {
          "base_uri": "https://localhost:8080/"
        },
        "id": "P6_PvQNM5ee5",
        "outputId": "0181bd00-9d43-4821-c850-a21f28543844"
      },
      "source": [
        "loss_fn = F.cross_entropy\n",
        "\n",
        "loss = loss_fn(outputs, labels)\n",
        "print(loss)"
      ],
      "execution_count": 66,
      "outputs": [
        {
          "output_type": "stream",
          "text": [
            "tensor(2.3310, grad_fn=<NllLossBackward>)\n"
          ],
          "name": "stdout"
        }
      ]
    },
    {
      "cell_type": "code",
      "metadata": {
        "id": "1rz0a1BR6M_R"
      },
      "source": [
        "# problem independent part\n",
        "def fit(epochs, learning_rate, model, train_loader, val_loader, opt_func=torch.optim.SGD):\n",
        "    optimizer = opt_func(model.parameters(), learning_rate)\n",
        "    history = []\n",
        "\n",
        "    for epoch in range(epochs):\n",
        "\n",
        "        # Training phase \n",
        "        for batch in train_loader:\n",
        "            loss = model.training_step(batch)\n",
        "            loss.backward()\n",
        "            optimizer.step()\n",
        "            optimizer.zero_grad()\n",
        "        \n",
        "        # validation phase \n",
        "        result = evaluate(model, val_loader)\n",
        "        model.epoch_end(epoch, result)\n",
        "        history.append(result)\n",
        "    return history\n",
        "\n",
        "def evaluate(model, val_loader):\n",
        "    outputs = [model.validation_step(batch) for batch in val_loader]\n",
        "    return model.validation_epoch_end(outputs)"
      ],
      "execution_count": 68,
      "outputs": []
    },
    {
      "cell_type": "code",
      "metadata": {
        "id": "b-Qvyhcw7C3F"
      },
      "source": [
        "class MnistModel(nn.Module): # derived form nn.Module\n",
        "    def __init__(self, input_size, num_classes):\n",
        "        super().__init__()\n",
        "        self.linear = nn.Linear(input_size, num_classes)\n",
        "\n",
        "    def forward(self, xb):\n",
        "        xb = xb.reshape(-1, 784)\n",
        "        out = self.linear(xb)\n",
        "        return out\n",
        "    \n",
        "    def training_step(self, batch):\n",
        "        images, labels = batch # since batch is a tuple\n",
        "        out = self(images)\n",
        "        loss = F.cross_entropy(out, labels)\n",
        "        return loss \n",
        "    \n",
        "    def validation_step(self, batch):\n",
        "        images, labels = batch\n",
        "        out = self(images)\n",
        "        loss = F.cross_entropy(out, labels)\n",
        "        acc = accuracy(out, labels)\n",
        "        return {'val_loss': loss, 'val_acc': acc}\n",
        "    \n",
        "    def validation_epoch_end(self, outputs):\n",
        "        batch_losses = [x['val_loss'] for x in outputs]\n",
        "        epoch_loss = torch.stack(batch_losses).mean()\n",
        "        batch_accs = [x['val_acc'] for x in outputs]\n",
        "        epoch_acc = torch.stack(batch_accs).mean()\n",
        "        return {'val_loss': epoch_loss.item(), 'val_acc': epoch_acc.item()}\n",
        "    \n",
        "    def epoch_end(self, epoch, result):\n",
        "        print('Epoch [{}], val_loss: {:.4f}, val_acc: {:.4f}'.format(epoch, \n",
        "                                                                     result['val_loss'], \n",
        "                                                                     result['val_acc']))\n",
        "\n",
        "model = MnistModel(input_size, num_classes)"
      ],
      "execution_count": 72,
      "outputs": []
    },
    {
      "cell_type": "code",
      "metadata": {
        "colab": {
          "base_uri": "https://localhost:8080/"
        },
        "id": "mNtDTBuF8tFE",
        "outputId": "83984d04-e55f-4b72-8394-a33faf4e036d"
      },
      "source": [
        "result0 = evaluate(model, val_loader)\n",
        "result0"
      ],
      "execution_count": 73,
      "outputs": [
        {
          "output_type": "execute_result",
          "data": {
            "text/plain": [
              "{'val_acc': 0.13221915066242218, 'val_loss': 2.3005659580230713}"
            ]
          },
          "metadata": {
            "tags": []
          },
          "execution_count": 73
        }
      ]
    },
    {
      "cell_type": "code",
      "metadata": {
        "colab": {
          "base_uri": "https://localhost:8080/"
        },
        "id": "5T5KunMQ83Ai",
        "outputId": "28394da1-c186-4cb2-d09d-c610056c859c"
      },
      "source": [
        "history1 = fit(50, 0.001, model, train_loader, val_loader)"
      ],
      "execution_count": 75,
      "outputs": [
        {
          "output_type": "stream",
          "text": [
            "Epoch [0], val_loss: 1.1180, val_acc: 0.8056\n",
            "Epoch [1], val_loss: 1.0452, val_acc: 0.8134\n",
            "Epoch [2], val_loss: 0.9857, val_acc: 0.8196\n",
            "Epoch [3], val_loss: 0.9361, val_acc: 0.8257\n",
            "Epoch [4], val_loss: 0.8941, val_acc: 0.8294\n",
            "Epoch [5], val_loss: 0.8580, val_acc: 0.8334\n",
            "Epoch [6], val_loss: 0.8269, val_acc: 0.8358\n",
            "Epoch [7], val_loss: 0.7996, val_acc: 0.8394\n",
            "Epoch [8], val_loss: 0.7756, val_acc: 0.8416\n",
            "Epoch [9], val_loss: 0.7540, val_acc: 0.8448\n",
            "Epoch [10], val_loss: 0.7348, val_acc: 0.8463\n",
            "Epoch [11], val_loss: 0.7175, val_acc: 0.8487\n",
            "Epoch [12], val_loss: 0.7017, val_acc: 0.8500\n",
            "Epoch [13], val_loss: 0.6873, val_acc: 0.8520\n",
            "Epoch [14], val_loss: 0.6741, val_acc: 0.8532\n",
            "Epoch [15], val_loss: 0.6620, val_acc: 0.8543\n",
            "Epoch [16], val_loss: 0.6508, val_acc: 0.8554\n",
            "Epoch [17], val_loss: 0.6404, val_acc: 0.8565\n",
            "Epoch [18], val_loss: 0.6307, val_acc: 0.8576\n",
            "Epoch [19], val_loss: 0.6217, val_acc: 0.8591\n",
            "Epoch [20], val_loss: 0.6133, val_acc: 0.8605\n",
            "Epoch [21], val_loss: 0.6054, val_acc: 0.8610\n",
            "Epoch [22], val_loss: 0.5979, val_acc: 0.8618\n",
            "Epoch [23], val_loss: 0.5909, val_acc: 0.8628\n",
            "Epoch [24], val_loss: 0.5843, val_acc: 0.8636\n",
            "Epoch [25], val_loss: 0.5781, val_acc: 0.8645\n",
            "Epoch [26], val_loss: 0.5722, val_acc: 0.8653\n",
            "Epoch [27], val_loss: 0.5665, val_acc: 0.8660\n",
            "Epoch [28], val_loss: 0.5612, val_acc: 0.8663\n",
            "Epoch [29], val_loss: 0.5561, val_acc: 0.8671\n",
            "Epoch [30], val_loss: 0.5512, val_acc: 0.8676\n",
            "Epoch [31], val_loss: 0.5466, val_acc: 0.8679\n",
            "Epoch [32], val_loss: 0.5422, val_acc: 0.8691\n",
            "Epoch [33], val_loss: 0.5379, val_acc: 0.8694\n",
            "Epoch [34], val_loss: 0.5339, val_acc: 0.8699\n",
            "Epoch [35], val_loss: 0.5300, val_acc: 0.8700\n",
            "Epoch [36], val_loss: 0.5262, val_acc: 0.8703\n",
            "Epoch [37], val_loss: 0.5226, val_acc: 0.8712\n",
            "Epoch [38], val_loss: 0.5192, val_acc: 0.8720\n",
            "Epoch [39], val_loss: 0.5159, val_acc: 0.8722\n",
            "Epoch [40], val_loss: 0.5127, val_acc: 0.8728\n",
            "Epoch [41], val_loss: 0.5096, val_acc: 0.8737\n",
            "Epoch [42], val_loss: 0.5066, val_acc: 0.8744\n",
            "Epoch [43], val_loss: 0.5037, val_acc: 0.8750\n",
            "Epoch [44], val_loss: 0.5009, val_acc: 0.8756\n",
            "Epoch [45], val_loss: 0.4982, val_acc: 0.8758\n",
            "Epoch [46], val_loss: 0.4955, val_acc: 0.8762\n",
            "Epoch [47], val_loss: 0.4930, val_acc: 0.8767\n",
            "Epoch [48], val_loss: 0.4905, val_acc: 0.8772\n",
            "Epoch [49], val_loss: 0.4882, val_acc: 0.8774\n"
          ],
          "name": "stdout"
        }
      ]
    },
    {
      "cell_type": "code",
      "metadata": {
        "colab": {
          "base_uri": "https://localhost:8080/",
          "height": 279
        },
        "id": "A96AIZGK9A_r",
        "outputId": "696ac5a4-38a1-4119-9bba-be44afc12335"
      },
      "source": [
        "history1\n",
        "val_acc_history = [a['val_acc'] for a in history1]\n",
        "val_loss_history = [a['val_loss'] for a in history1]\n",
        "epochs = [i for i in range(len(history1))]\n",
        "plt.plot(epochs, val_acc_history, '-x', color='b', label='accuracy')\n",
        "plt.plot(epochs, val_loss_history, '-o', color='r', label='loss')\n",
        "plt.xlabel('epoch')\n",
        "plt.ylabel('accuracy & loss')\n",
        "plt.legend()\n",
        "plt.show()"
      ],
      "execution_count": 81,
      "outputs": [
        {
          "output_type": "display_data",
          "data": {
            "image/png": "[encoded data removed]",
            "text/plain": [
              "<Figure size 432x288 with 1 Axes>"
            ]
          },
          "metadata": {
            "tags": [],
            "needs_background": "light"
          }
        }
      ]
    },
    {
      "cell_type": "code",
      "metadata": {
        "id": "7Y8VxcA_-llr"
      },
      "source": [
        "# save our coefficients\n",
        "torch.save(model.state_dict(), 'mnist-logistic.pth')"
      ],
      "execution_count": 82,
      "outputs": []
    },
    {
      "cell_type": "code",
      "metadata": {
        "colab": {
          "base_uri": "https://localhost:8080/"
        },
        "id": "Zac5b0b6_g4g",
        "outputId": "966ebef2-b3f7-4bb1-ea2a-baa163c4dda1"
      },
      "source": [
        "!ls -la"
      ],
      "execution_count": 83,
      "outputs": [
        {
          "output_type": "stream",
          "text": [
            "total 52\n",
            "drwxr-xr-x 1 root root  4096 Dec 27 16:18 .\n",
            "drwxr-xr-x 1 root root  4096 Dec 27 14:48 ..\n",
            "drwxr-xr-x 1 root root  4096 Dec 21 17:29 .config\n",
            "drwxr-xr-x 3 root root  4096 Dec 27 14:49 data\n",
            "-rw-r--r-- 1 root root 32503 Dec 27 16:18 mnist-logistic.pth\n",
            "drwxr-xr-x 1 root root  4096 Dec 21 17:29 sample_data\n"
          ],
          "name": "stdout"
        }
      ]
    },
    {
      "cell_type": "code",
      "metadata": {
        "colab": {
          "base_uri": "https://localhost:8080/",
          "height": 17
        },
        "id": "Oz8D-tgz_iyd",
        "outputId": "4250ac35-7402-48be-ba93-479dee93ce96"
      },
      "source": [
        "from google.colab import files\n",
        "files.download('mnist-logistic.pth')"
      ],
      "execution_count": 84,
      "outputs": [
        {
          "output_type": "display_data",
          "data": {
            "application/javascript": [
              "\n",
              "    async function download(id, filename, size) {\n",
              "      if (!google.colab.kernel.accessAllowed) {\n",
              "        return;\n",
              "      }\n",
              "      const div = document.createElement('div');\n",
              "      const label = document.createElement('label');\n",
              "      label.textContent = `Downloading \"${filename}\": `;\n",
              "      div.appendChild(label);\n",
              "      const progress = document.createElement('progress');\n",
              "      progress.max = size;\n",
              "      div.appendChild(progress);\n",
              "      document.body.appendChild(div);\n",
              "\n",
              "      const buffers = [];\n",
              "      let downloaded = 0;\n",
              "\n",
              "      const channel = await google.colab.kernel.comms.open(id);\n",
              "      // Send a message to notify the kernel that we're ready.\n",
              "      channel.send({})\n",
              "\n",
              "      for await (const message of channel.messages) {\n",
              "        // Send a message to notify the kernel that we're ready.\n",
              "        channel.send({})\n",
              "        if (message.buffers) {\n",
              "          for (const buffer of message.buffers) {\n",
              "            buffers.push(buffer);\n",
              "            downloaded += buffer.byteLength;\n",
              "            progress.value = downloaded;\n",
              "          }\n",
              "        }\n",
              "      }\n",
              "      const blob = new Blob(buffers, {type: 'application/binary'});\n",
              "      const a = document.createElement('a');\n",
              "      a.href = window.URL.createObjectURL(blob);\n",
              "      a.download = filename;\n",
              "      div.appendChild(a);\n",
              "      a.click();\n",
              "      div.remove();\n",
              "    }\n",
              "  "
            ],
            "text/plain": [
              "<IPython.core.display.Javascript object>"
            ]
          },
          "metadata": {
            "tags": []
          }
        },
        {
          "output_type": "display_data",
          "data": {
            "application/javascript": [
              "download(\"download_c4552f09-2f60-47a7-ba4d-125bcfa84431\", \"mnist-logistic.pth\", 32503)"
            ],
            "text/plain": [
              "<IPython.core.display.Javascript object>"
            ]
          },
          "metadata": {
            "tags": []
          }
        }
      ]
    },
    {
      "cell_type": "code",
      "metadata": {
        "id": "4s4-AEaG_3w8"
      },
      "source": [
        "def predict_image(img, model):\n",
        "    xb = img.reshape(-1, 1*28*28)\n",
        "    yb = model(xb)\n",
        "    _, preds = torch.max(yb, dim=1)\n",
        "    return preds[0].item()"
      ],
      "execution_count": 94,
      "outputs": []
    },
    {
      "cell_type": "code",
      "metadata": {
        "colab": {
          "base_uri": "https://localhost:8080/"
        },
        "id": "Y7eDK2I1AARf",
        "outputId": "b9ec1579-07ed-44ca-ee1c-9a47553d056f"
      },
      "source": [
        "corr = 0\n",
        "for a in range(len(test_set)):\n",
        "    pred = predict_image(test_set[a][0], model)\n",
        "    if pred == test_set[a][1]:\n",
        "        corr += 1\n",
        "print(corr/len(test_set))\n",
        "\n"
      ],
      "execution_count": 106,
      "outputs": [
        {
          "output_type": "stream",
          "text": [
            "0.8862\n"
          ],
          "name": "stdout"
        }
      ]
    },
    {
      "cell_type": "code",
      "metadata": {
        "id": "dOnQoIhqAsnp"
      },
      "source": [
        ""
      ],
      "execution_count": null,
      "outputs": []
    }
  ]
}